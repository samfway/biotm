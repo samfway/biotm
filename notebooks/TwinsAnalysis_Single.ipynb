{
 "metadata": {
  "name": "",
  "signature": "sha256:34edb2088603b9c355c0839aa0898c8f9ef855a6f480c775b9c79bd004cf6e8d"
 },
 "nbformat": 3,
 "nbformat_minor": 0,
 "worksheets": [
  {
   "cells": [
    {
     "cell_type": "code",
     "collapsed": false,
     "input": [
      "from biotm.parse.fileio import load_dataset, parse_mapping_file_to_dict\n",
      "from biotm.topic_models.plsa.plsa import plsa\n",
      "from biotm.plotting.grouped_box import make_grouped_box, color_bp\n",
      "\n",
      "import matplotlib.pyplot as plt\n",
      "import brewer2mpl\n",
      "\n",
      "import pandas as pd\n",
      "from numpy import array, zeros, ones, arange, mean\n",
      "from numpy.random import randint, choice\n",
      "from scipy.stats import ranksums, f_oneway, pearsonr"
     ],
     "language": "python",
     "metadata": {},
     "outputs": [],
     "prompt_number": 119
    },
    {
     "cell_type": "heading",
     "level": 2,
     "metadata": {},
     "source": [
      "Load dataset"
     ]
    },
    {
     "cell_type": "code",
     "collapsed": false,
     "input": [
      "mapping_file = '/Users/samway/Documents/Work/TopicModeling/biotm/data/twins/twins.mapping.txt'\n",
      "otu_file = '/Users/samway/Documents/Work/TopicModeling/biotm/data/twins/twins.biom'\n",
      "metadata_category = 'Family'\n",
      "metadata_value = None\n",
      "\n",
      "otu_fp = open(otu_file, 'rU')\n",
      "map_fp = open(mapping_file, 'rU')\n",
      "\n",
      "data_matrix, sample_ids, taxonomy, labels, label_legend = \\\n",
      "    load_dataset(otu_fp, map_fp, metadata_category, metadata_value)\n",
      "    \n",
      "md_categories, mapping_dict = parse_mapping_file_to_dict(open(mapping_file, 'rU'))\n",
      "num_samples = len(sample_ids)\n",
      "    \n",
      "print \"Data matrix dimensions: \", data_matrix.shape \n",
      "print \"Number of Sample IDs: \" , num_samples\n",
      "print \"Number of Labels: \", len(labels)\n",
      "print \"Sum of all counts: \", data_matrix.sum()"
     ],
     "language": "python",
     "metadata": {},
     "outputs": [
      {
       "output_type": "stream",
       "stream": "stdout",
       "text": [
        "Data matrix dimensions:  (264, 678)\n",
        "Number of Sample IDs:  264\n",
        "Number of Labels:  264\n",
        "Sum of all counts:  427189.0\n"
       ]
      }
     ],
     "prompt_number": 120
    },
    {
     "cell_type": "code",
     "collapsed": false,
     "input": [
      "mapping_dict[sample_ids[0]]"
     ],
     "language": "python",
     "metadata": {},
     "outputs": [
      {
       "metadata": {},
       "output_type": "pyout",
       "prompt_number": 121,
       "text": [
        "{'Age': '8',\n",
        " 'AnonymizedName': 'DZ01421',\n",
        " 'BarcodeSequence': 'AGCTGACTAGTC',\n",
        " 'CollectionYear': '1997',\n",
        " 'Family': 'DZsubjectDZ014',\n",
        " 'LinkerPrimerSequence': 'CATGCTGCCTCCCGTAGGAGT',\n",
        " 'Sex': 'male',\n",
        " 'TwinSibling': 'y',\n",
        " 'WeightClass': 'normal',\n",
        " 'Zygosity': 'DZ'}"
       ]
      }
     ],
     "prompt_number": 121
    },
    {
     "cell_type": "code",
     "collapsed": false,
     "input": [
      "dz_sample_ids = [sample_id for sample_id in sample_ids if mapping_dict[sample_id]['Zygosity'] == 'DZ']\n",
      "mz_sample_ids = [sample_id for sample_id in sample_ids if mapping_dict[sample_id]['Zygosity'] == 'MZ']\n",
      "ad_sample_ids = [sample_id for sample_id in sample_ids if mapping_dict[sample_id]['Zygosity'] == 'adopted']\n",
      "\n",
      "dz_samples = [i for i, sid in enumerate(sample_ids) if sid in dz_sample_ids]\n",
      "mz_samples = [i for i, sid in enumerate(sample_ids) if sid in mz_sample_ids]\n",
      "ad_samples = [i for i, sid in enumerate(sample_ids) if sid in ad_sample_ids]"
     ],
     "language": "python",
     "metadata": {},
     "outputs": [],
     "prompt_number": 122
    },
    {
     "cell_type": "code",
     "collapsed": false,
     "input": [
      "# Get the youngest sample for each individual.\n",
      "individual_samples = {}\n",
      "for sample in sample_ids:\n",
      "    name = mapping_dict[sample]['AnonymizedName']\n",
      "    if name in individual_samples:\n",
      "        current_age = int(mapping_dict[individual_samples[name]]['Age'])\n",
      "        sample_age = int(mapping_dict[sample]['Age'])\n",
      "        if current_age > sample_age:\n",
      "            individual_samples[name] = sample\n",
      "    else:\n",
      "        individual_samples[name] = sample\n",
      "individuals = list(individual_samples.keys())"
     ],
     "language": "python",
     "metadata": {},
     "outputs": [],
     "prompt_number": 123
    },
    {
     "cell_type": "code",
     "collapsed": false,
     "input": [
      "# Make a list of all twin pairs for each type.\n",
      "remaining_individuals = ones(len(individual_samples))\n",
      "dz_twins = []\n",
      "mz_twins = []\n",
      "ad_twins = []\n",
      "\n",
      "while remaining_individuals.sum() > 0:\n",
      "    next_ind = remaining_individuals.tolist().index(1.)  # Get index of first 1.\n",
      "    name1 = individuals[next_ind]\n",
      "    id1 = individual_samples[name1]\n",
      "    family1 = mapping_dict[id1]['Family']    \n",
      "    found_sibling = False\n",
      "    \n",
      "    for i, name2 in enumerate(individuals):\n",
      "        if name1 == name2:\n",
      "            continue\n",
      "        \n",
      "        id2 = individual_samples[name2]\n",
      "        family2 = mapping_dict[id2]['Family']\n",
      "        \n",
      "        if family1 == family2:\n",
      "            found_sibling = True\n",
      "            twin_type = mapping_dict[id1]['Zygosity'].lower()\n",
      "            if twin_type == 'dz':\n",
      "                twin_list = dz_twins\n",
      "            elif twin_type == 'mz':\n",
      "                twin_list = mz_twins\n",
      "            elif twin_type == 'adopted':\n",
      "                twin_list = ad_twins\n",
      "            else:\n",
      "                raise ValueError(\"Unexpected twin type: %s\" % mapping_dict[id1]['Zygosity'])\n",
      "            \n",
      "            twin_list.append((id1, id2))\n",
      "            remaining_individuals[i] = 0\n",
      "            \n",
      "    if not found_sibling:\n",
      "        print 'WARNING: No sibling found for', name1\n",
      "        \n",
      "    remaining_individuals[next_ind] = 0\n",
      "    \n",
      "selected_samples = []\n",
      "for group in [dz_twins, mz_twins, ad_twins]:\n",
      "    for id1, id2 in group:\n",
      "        selected_samples += [id1, id2]\n",
      "        \n",
      "selected_samples = list(set(selected_samples))  # Make sure list is unique.\n",
      "sample_id_list = sample_ids.tolist()\n",
      "selected_samples_idx = [sample_id_list.index(s) for s in selected_samples]\n",
      "print '\\nNumber of selected samples:', len(selected_samples_idx)\n",
      "print 'Matched %d of %d individuals' % (sum(2*[len(dz_twins), len(mz_twins), len(ad_twins)]), len(individuals))\n",
      "\n",
      "data_matrix = data_matrix[selected_samples_idx]\n",
      "sample_ids = sample_ids[selected_samples_idx]"
     ],
     "language": "python",
     "metadata": {},
     "outputs": [
      {
       "output_type": "stream",
       "stream": "stdout",
       "text": [
        "WARNING: No sibling found for C00362\n",
        "\n",
        "Number of selected samples: 106\n",
        "Matched 106 of 107 individuals\n"
       ]
      }
     ],
     "prompt_number": 124
    },
    {
     "cell_type": "heading",
     "level": 2,
     "metadata": {},
     "source": [
      "Comparison of groups"
     ]
    },
    {
     "cell_type": "code",
     "collapsed": false,
     "input": [
      "def bootstrap(X, n=None, sample_subset=None):\n",
      "    \"\"\" Construct a bootstrap sample of matrix X.\n",
      "        NOTE: If n is not specified, it is assumed \n",
      "        to be X.shape[0].  \n",
      "        \n",
      "        Inputs:\n",
      "          -X: data matrix to be sampled.\n",
      "              (num_samples, num_features)\n",
      "          -n: number of samples to extract\n",
      "              from X (default: n=num_samples)\n",
      "          -sample_subset: restrict sampling to\n",
      "                          draw from only these\n",
      "                          indices.\n",
      "        \n",
      "        Returns:\n",
      "          -Xbs: bootstrap sample of size n.\n",
      "          -selected_samples: sample indices in\n",
      "                             the bootstrap.\n",
      "    \"\"\"\n",
      "    if n is None:\n",
      "        n = X.shape[0]\n",
      "    elif n <= 0:\n",
      "        raise ValueError('n must be a positive number!')\n",
      "\n",
      "    if sample_subset is None:\n",
      "        selected_samples = choice(arange(X.shape[0]), n, replace=True)\n",
      "    else:\n",
      "        selected_samples = choice(sample_subset, n, replace=True)\n",
      "    return X[selected_samples], selected_samples   "
     ],
     "language": "python",
     "metadata": {},
     "outputs": [],
     "prompt_number": 125
    },
    {
     "cell_type": "markdown",
     "metadata": {},
     "source": [
      "Perform a number of bootstrap samples of the data matrix.  For each sample, run PLSA and look at the correlations of topic vectors within each group. "
     ]
    },
    {
     "cell_type": "code",
     "collapsed": false,
     "input": [
      "dz_vals = []\n",
      "mz_vals = []\n",
      "ot_vals = []\n",
      "\n",
      "dimredux = plsa(n_components=7)\n",
      "bootstrap_iterations = 20\n",
      "\n",
      "for b in xrange(bootstrap_iterations):\n",
      "    bs_data_matrix, bs_samples = bootstrap(data_matrix)\n",
      "    txd_matrix = dimredux.fit_transform(bs_data_matrix)\n",
      "    \n",
      "    n = len(bs_samples)\n",
      "    for i in xrange(n):\n",
      "        sample_i = sample_ids[bs_samples[i]]\n",
      "        i_idx = bs_samples[i]\n",
      "        \n",
      "        for j in xrange(i+1, n):\n",
      "            sample_j = sample_ids[bs_samples[j]]\n",
      "            j_idx = bs_samples[j]\n",
      "            r, pval = pearsonr(txd_matrix[i_idx,:], txd_matrix[j_idx,:])\n",
      "        \n",
      "            if (sample_i, sample_j) in mz_twins or (sample_j, sample_i) in mz_twins:\n",
      "                mz_vals.append(r)\n",
      "            elif (sample_i, sample_j) in dz_twins or (sample_j, sample_i) in dz_twins:\n",
      "                dz_vals.append(r)\n",
      "            else:\n",
      "                ot_vals.append(r)"
     ],
     "language": "python",
     "metadata": {},
     "outputs": [],
     "prompt_number": 127
    },
    {
     "cell_type": "code",
     "collapsed": false,
     "input": [
      "fig, ax = plt.subplots(figsize=(6, 6), dpi=80)\n",
      "color_map = brewer2mpl.get_map('Set1', 'qualitative', 3).mpl_colors\n",
      "\n",
      "bp = ax.boxplot([mz_vals], positions=[1], patch_artist=True, widths=.75)\n",
      "color_bp(bp, color_map[0])\n",
      "bp = ax.boxplot([dz_vals], positions=[2], patch_artist=True, widths=.75)\n",
      "color_bp(bp, color_map[1])\n",
      "bp = ax.boxplot([ot_vals], positions=[3], patch_artist=True, widths=.75)\n",
      "color_bp(bp, color_map[2])\n",
      "\n",
      "means = [mean(x) for x in [mz_vals, dz_vals, ot_vals]]\n",
      "ax.plot([1, 2, 3], means, linestyle='None', \n",
      "        marker='o', markerfacecolor='w',\n",
      "         markeredgecolor='k')\n",
      "\n",
      "ax.set_xticks(arange(3)+1)\n",
      "ax.set_xticklabels(['Identical Twins', 'Fraternal Twins', 'Control'])\n",
      "ax.set_xlim(0.25, 3.75)\n",
      "ax.set_ylim(-1.1, 1.1)\n",
      "ax.set_ylabel('Correlation of topic vectors')\n",
      "ax.set_title('Correlation of individuals using %d topics' % (dimredux.num_topics))\n",
      "plt.show()"
     ],
     "language": "python",
     "metadata": {},
     "outputs": [
      {
       "metadata": {},
       "output_type": "display_data",
       "png": "[encoded data removed]",
       "text": [
        "<matplotlib.figure.Figure at 0x10c10cf50>"
       ]
      }
     ],
     "prompt_number": 128
    },
    {
     "cell_type": "heading",
     "level": 2,
     "metadata": {},
     "source": [
      "Vary number of topics"
     ]
    },
    {
     "cell_type": "code",
     "collapsed": false,
     "input": [
      "bootstrap_iterations = 20\n",
      "dim_steps = [3, 5, 10, 50, 100, None]\n",
      "current_position = 0\n",
      "padding = 2\n",
      "\n",
      "fig, ax = plt.subplots(figsize=(10, 6), dpi=80)\n",
      "xtickpos = []\n",
      "xticklabels = []\n",
      "color_map = brewer2mpl.get_map('Set1', 'qualitative', 3).mpl_colors\n",
      "\n",
      "for num_dims in dim_steps:\n",
      "    if num_dims is not None:\n",
      "        dimredux = plsa(n_components=num_dims)\n",
      "    dz_vals = []\n",
      "    mz_vals = []\n",
      "    ot_vals = []\n",
      "    print num_dims\n",
      "    \n",
      "    for b in xrange(bootstrap_iterations):\n",
      "        bs_data_matrix, bs_samples = bootstrap(data_matrix)\n",
      "        if num_dims is not None:\n",
      "            txd_matrix = dimredux.fit_transform(bs_data_matrix)\n",
      "        else:\n",
      "            txd_matrix = bs_data_matrix\n",
      "    \n",
      "        n = len(bs_samples)\n",
      "        for i in xrange(n):\n",
      "            sample_i = sample_ids[bs_samples[i]]\n",
      "            i_idx = bs_samples[i]\n",
      "        \n",
      "            for j in xrange(i+1, n):\n",
      "                sample_j = sample_ids[bs_samples[j]]\n",
      "                j_idx = bs_samples[j]\n",
      "                r, pval = pearsonr(txd_matrix[i_idx,:], txd_matrix[j_idx,:])\n",
      "        \n",
      "                if (sample_i, sample_j) in mz_twins or (sample_j, sample_i) in mz_twins:\n",
      "                    mz_vals.append(r)\n",
      "                elif (sample_i, sample_j) in dz_twins or (sample_j, sample_i) in dz_twins:\n",
      "                    dz_vals.append(r)\n",
      "                else:\n",
      "                    ot_vals.append(r)\n",
      "        \n",
      "    # Draw the boxplots\n",
      "    start_pos = current_position\n",
      "    for i, vals in enumerate([mz_vals, dz_vals, ot_vals]):\n",
      "        bp = ax.boxplot([vals], positions=[current_position], patch_artist=True, widths=.75)\n",
      "        color_bp(bp, color_map[i])\n",
      "        ax.plot([current_position], [mean(vals)], linestyle='None', \n",
      "                marker='o', markerfacecolor='w',\n",
      "                markeredgecolor='k')\n",
      "        current_position += 1            \n",
      "    end_pos = current_position-1.0\n",
      "    xtickpos.append((end_pos-start_pos)/2.0 + start_pos)\n",
      "    if num_dims is None:\n",
      "        xticklabels.append('k=%d\\n(No PLSA)' % (data_matrix.shape[1]))\n",
      "    else:\n",
      "        xticklabels.append('k=%d' % (num_dims))\n",
      "    current_position += padding  # Add extra space between groupings\n",
      "\n",
      "# Hack to make a legend:\n",
      "labels = ['Identical Twins', 'Fraternal Twins', 'No blood relation']\n",
      "handles = []\n",
      "for group_index in xrange(3):\n",
      "    temp = plt.Line2D(range(1), range(1),\n",
      "                      linewidth=2,\n",
      "                      color=color_map[group_index])\n",
      "    handles.append(temp)\n",
      "plt.legend(handles, labels, numpoints=1,\n",
      "           loc='lower right')\n",
      "for handle in handles:\n",
      "    handle.set_visible(False)\n",
      "\n",
      "# Set plot properties \n",
      "ax.set_xlim([-padding, current_position])\n",
      "ax.set_ylim(-1.1, 1.1)\n",
      "ax.set_xticks(xtickpos)\n",
      "ax.set_xticklabels(xticklabels)\n",
      "ax.set_ylabel('Correlation of topic vectors')\n",
      "ax.set_xlabel('Number of dimensions')\n",
      "\n",
      "plt.show()"
     ],
     "language": "python",
     "metadata": {},
     "outputs": [
      {
       "output_type": "stream",
       "stream": "stdout",
       "text": [
        "3\n",
        "5"
       ]
      },
      {
       "output_type": "stream",
       "stream": "stdout",
       "text": [
        "\n",
        "10"
       ]
      },
      {
       "output_type": "stream",
       "stream": "stdout",
       "text": [
        "\n",
        "50"
       ]
      },
      {
       "output_type": "stream",
       "stream": "stdout",
       "text": [
        "\n",
        "100"
       ]
      },
      {
       "output_type": "stream",
       "stream": "stdout",
       "text": [
        "\n",
        "None"
       ]
      },
      {
       "output_type": "stream",
       "stream": "stdout",
       "text": [
        "\n"
       ]
      },
      {
       "metadata": {},
       "output_type": "display_data",
       "png": "[encoded data removed]",
       "text": [
        "<matplotlib.figure.Figure at 0x10c231910>"
       ]
      }
     ],
     "prompt_number": 129
    },
    {
     "cell_type": "heading",
     "level": 2,
     "metadata": {},
     "source": [
      "Separate Boxes"
     ]
    },
    {
     "cell_type": "code",
     "collapsed": false,
     "input": [],
     "language": "python",
     "metadata": {},
     "outputs": []
    }
   ],
   "metadata": {}
  }
 ]
}