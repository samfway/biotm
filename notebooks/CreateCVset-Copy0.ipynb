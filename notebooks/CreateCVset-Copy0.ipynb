{
 "metadata": {
  "name": "",
  "signature": "sha256:be51e0010f312ac50c2c980b46985adb860c7ba9e0dbf2aacc57c690899e7605"
 },
 "nbformat": 3,
 "nbformat_minor": 0,
 "worksheets": [
  {
   "cells": [
    {
     "cell_type": "code",
     "collapsed": false,
     "input": [
      "from biotm.parse.fileio import load_dataset, parse_mapping_file_to_dataframe, add_control_variables\n",
      "from biotm.topic_models.plsa.plsa import plsa\n",
      "from biotm.topic_models.lda.lda import lda\n",
      "from biotm.topic_models.slda.slda import slda\n",
      "from biotm.plotting.grouped_box import make_grouped_box\n",
      "\n",
      "from os import path\n",
      "\n",
      "import matplotlib.pyplot as plt\n",
      "import brewer2mpl\n",
      "\n",
      "import pandas as pd\n",
      "from numpy import array, zeros, save\n",
      "from numpy.random import randint\n",
      "from scipy.stats import ranksums, f_oneway \n",
      "\n",
      "from sklearn.decomposition import TruncatedSVD, KernelPCA, FastICA, MiniBatchDictionaryLearning, NMF\n",
      "from sklearn.ensemble import RandomForestRegressor\n",
      "from sklearn.cross_validation import StratifiedKFold, KFold\n",
      "from sklearn.metrics import mean_squared_error, mean_absolute_error, r2_score\n",
      "from sklearn.feature_extraction.text import TfidfTransformer"
     ],
     "language": "python",
     "metadata": {},
     "outputs": [],
     "prompt_number": 6
    },
    {
     "cell_type": "markdown",
     "metadata": {},
     "source": [
      "Gameplan\n",
      "\n",
      "1. **Create cross validation sets.**\n",
      "1. **Run dimensionality reduction on each CV fold.**\n",
      "1. **Save resulting matrices to file.**  *Because ^^^ takes a while, you know?*\n",
      "1. **Load in matrices (be able to swap in different response variables!).**\n",
      "1. **Train and test prediction model(s).**\n",
      "1. **Compare performance amongst different regression/dimredux techniques.**\n",
      "\n",
      "This file encomposes the first three steps of running dimensionality reduction on CV folds and saving the resulting matrices to files.  For each cross validation fold, a model is trained on the training matrix then applied to (transforms) the test matrix."
     ]
    },
    {
     "cell_type": "code",
     "collapsed": false,
     "input": [
      "num_folds = 10\n",
      "\n",
      "output_dir = '/Users/samway/Documents/Work/TopicModeling/biotm/data/substance_usage/cv_data_slda/'\n",
      "mapping_file = '/Users/samway/Documents/Work/TopicModeling/biotm/data/substance_usage/substance_usage.mapping.txt'\n",
      "otu_file = '/Users/samway/Documents/Work/TopicModeling/biotm/data/substance_usage/substance_usage.biom'\n",
      "metadata_value = None\n",
      "metadata_category = 'b1d_combo'\n",
      "convert_labels = False\n",
      "\n",
      "also_include = ['age', 'nsex', 'testyr', 'c_lane_coded', 'collection_method', 'san_diego',\n",
      "                'racecat3', 'clinical']\n",
      "also_include_categorical = [False, False, False, False, False, False, True, False]\n",
      "\n",
      "otu_fp = open(otu_file, 'rU')\n",
      "map_fp = open(mapping_file, 'rU')\n",
      "data_matrix, sample_ids, taxonomy, labels, label_legend = \\\n",
      "    load_dataset(otu_fp, map_fp, metadata_category, metadata_value, convert_labels)\n",
      "    \n",
      "# Add control variables to the data matrix: \n",
      "data_matrix,_ = add_control_variables(also_include, \n",
      "                                      open(mapping_file, 'rU'), \n",
      "                                      data_matrix, \n",
      "                                      sample_ids,\n",
      "                                      also_include_categorical)\n",
      "\n",
      "print \"BEFORE FILTERING:\"\n",
      "print \"Data matrix dimensions: \", data_matrix.shape \n",
      "print \"Number of Sample IDs: \" , len(sample_ids)\n",
      "print \"Number of Labels: \", len(labels)\n",
      "print \"Sum of all counts: \", data_matrix.sum()\n",
      "\n",
      "if not label_legend:\n",
      "    labels = array([float(l) for l in labels])\n",
      "else:\n",
      "    relevant_indices = array([i for i,v in enumerate(labels) \n",
      "                          if label_legend[v] != 'NA'])  # Get rid of NA and CON values\n",
      "    data_matrix = data_matrix[relevant_indices, :]\n",
      "    sample_ids = sample_ids[relevant_indices]\n",
      "    labels = labels[relevant_indices]\n",
      "\n",
      "print \"\\nAFTER FILTERING:\"\n",
      "print \"Data matrix dimensions: \", data_matrix.shape \n",
      "print \"Number of Sample IDs: \" , len(sample_ids)\n",
      "print \"Number of Labels: \", len(labels)\n",
      "print \"Sum of all counts: \", data_matrix.sum()"
     ],
     "language": "python",
     "metadata": {},
     "outputs": [
      {
       "output_type": "stream",
       "stream": "stdout",
       "text": [
        "BEFORE FILTERING:\n",
        "Data matrix dimensions:  (1093, 2256)\n",
        "Number of Sample IDs:  1093\n",
        "Number of Labels:  1093\n",
        "Sum of all counts:  152694187.0\n",
        "\n",
        "AFTER FILTERING:\n",
        "Data matrix dimensions:  (1093, 2256)\n",
        "Number of Sample IDs:  1093\n",
        "Number of Labels:  1093\n",
        "Sum of all counts:  152694187.0\n"
       ]
      }
     ],
     "prompt_number": 7
    },
    {
     "cell_type": "code",
     "collapsed": false,
     "input": [
      "data_matrix"
     ],
     "language": "python",
     "metadata": {},
     "outputs": [
      {
       "metadata": {},
       "output_type": "pyout",
       "prompt_number": 8,
       "text": [
        "array([[  0.,   5.,   0., ...,   0.,   6.,   0.],\n",
        "       [  0.,  15.,   0., ...,   0.,   6.,   0.],\n",
        "       [  0.,  13.,   1., ...,   0.,   6.,   1.],\n",
        "       ..., \n",
        "       [  0.,   9.,   2., ...,   0.,   6.,   0.],\n",
        "       [  0.,  11.,   0., ...,   0.,   2.,   1.],\n",
        "       [  0.,   7.,   1., ...,   0.,   5.,   1.]])"
       ]
      }
     ],
     "prompt_number": 8
    },
    {
     "cell_type": "code",
     "collapsed": false,
     "input": [
      "totals = (data_matrix > 0).astype(int)\n",
      "totals = totals.sum(axis=0)\n",
      "hist(totals, 100)\n",
      "plt.show()"
     ],
     "language": "python",
     "metadata": {},
     "outputs": [
      {
       "metadata": {},
       "output_type": "display_data",
       "png": "[encoded data removed]",
       "text": [
        "<matplotlib.figure.Figure at 0x104e7b910>"
       ]
      }
     ],
     "prompt_number": 3
    },
    {
     "cell_type": "code",
     "collapsed": false,
     "input": [
      "totals = (data_matrix > 0).astype(int)\n",
      "totals = totals.sum(axis=0)\n",
      "filt = array([t <= 900 and t>300 for t in totals])\n",
      "data_matrix = data_matrix[:, filt]\n",
      "print \"\\nAFTER FILTERING:\"\n",
      "print \"Data matrix dimensions: \", data_matrix.shape \n",
      "print \"Number of Sample IDs: \" , len(sample_ids)\n",
      "print \"Number of Labels: \", len(labels)\n",
      "print \"Sum of all counts: \", data_matrix.sum()"
     ],
     "language": "python",
     "metadata": {},
     "outputs": [
      {
       "output_type": "stream",
       "stream": "stdout",
       "text": [
        "\n",
        "AFTER FILTERING:\n",
        "Data matrix dimensions:  (1093, 372)\n",
        "Number of Sample IDs:  1093\n",
        "Number of Labels:  1093\n",
        "Sum of all counts:  6703150.0\n"
       ]
      }
     ],
     "prompt_number": 4
    },
    {
     "cell_type": "heading",
     "level": 2,
     "metadata": {},
     "source": [
      "Create a full CV set"
     ]
    },
    {
     "cell_type": "code",
     "collapsed": false,
     "input": [
      "cv_folds = StratifiedKFold(labels, num_folds)\n",
      "dim_redux_techniques = [(slda, 'SLDA')] #, (TruncatedSVD, 'SVD'), (plsa, 'PLSA'), (lda, 'LDA'), (NMF, 'NMF')]\n",
      "dim_steps = [10, 25, 50]\n",
      "# Save off everything else, just in case\n",
      "np.save(path.join(output_dir, 'data_matrix'), data_matrix)\n",
      "np.save(path.join(output_dir, 'sample_ids'), sample_ids)\n",
      "\n",
      "for num_dims in dim_steps:\n",
      "\n",
      "    for cv_fold, (training, testing) in enumerate(cv_folds):\n",
      "        cv_label = 'CV_%d_' % (cv_fold)\n",
      "        \n",
      "        for dim_redux_technique, dim_redux_name in dim_redux_techniques:\n",
      "            dim_redux = dim_redux_technique(n_components=num_dims)\n",
      "            dim_redux_label = dim_redux_name + '_' + str(num_dims) + '_'\n",
      "            file_prefix = path.join(output_dir, dim_redux_label + cv_label)\n",
      "            training_matrix = data_matrix[training,:]\n",
      "            test_matrix = data_matrix[testing,:]\n",
      "            training_labels = labels[training]\n",
      "            \n",
      "            '''\n",
      "            prp_training_matrix = array(prep.fit_transform(training_matrix).todense())\n",
      "            prp_test_matrix = array(prep.transform(test_matrix).todense())\n",
      "            txd_training_matrix = dim_redux.fit_transform(prp_training_matrix)\n",
      "            txd_test_matrix = dim_redux.transform(prp_test_matrix)\n",
      "            '''\n",
      "            \n",
      "            txd_training_matrix = dim_redux.fit_transform(training_matrix, training_labels)\n",
      "            txd_test_matrix = dim_redux.transform(test_matrix)\n",
      "            \n",
      "            if dim_redux_name == 'LDA':\n",
      "                txd_training_matrix = txd_training_matrix.todense()\n",
      "                txd_test_matrix = txd_test_matrix.todense()\n",
      "                \n",
      "            assert(txd_training_matrix.shape[1] == num_dims)\n",
      "            assert(txd_test_matrix.shape[1] == num_dims)\n",
      "            assert(txd_training_matrix.shape[0] == len(training))\n",
      "            assert(txd_test_matrix.shape[0] == len(testing))\n",
      "    \n",
      "            np.save(file_prefix + 'txd_test_matrix', txd_test_matrix)\n",
      "            np.save(file_prefix + 'txd_training_matrix', txd_training_matrix)\n",
      "            np.save(file_prefix + 'testing', testing)\n",
      "            np.save(file_prefix + 'training', training)"
     ],
     "language": "python",
     "metadata": {},
     "outputs": [
      {
       "output_type": "stream",
       "stream": "stdout",
       "text": [
        "/Users/samway/Documents/Work/TopicModeling/slda/slda est /Users/samway/Documents/Work/TopicModeling/slda/scratch/data.txt /Users/samway/Documents/Work/TopicModeling/slda/scratch/labels.txt /Users/samway/Documents/Work/TopicModeling/slda/settings.txt 0.1 10 random /Users/samway/Documents/Work/TopicModeling/slda/scratch/\n",
        "/Users/samway/Documents/Work/TopicModeling/slda/slda est /Users/samway/Documents/Work/TopicModeling/slda/scratch/data.txt /Users/samway/Documents/Work/TopicModeling/slda/scratch/labels.txt /Users/samway/Documents/Work/TopicModeling/slda/settings.txt 0.1 10 random /Users/samway/Documents/Work/TopicModeling/slda/scratch/"
       ]
      },
      {
       "output_type": "stream",
       "stream": "stdout",
       "text": [
        "\n",
        "/Users/samway/Documents/Work/TopicModeling/slda/slda est /Users/samway/Documents/Work/TopicModeling/slda/scratch/data.txt /Users/samway/Documents/Work/TopicModeling/slda/scratch/labels.txt /Users/samway/Documents/Work/TopicModeling/slda/settings.txt 0.1 10 random /Users/samway/Documents/Work/TopicModeling/slda/scratch/"
       ]
      },
      {
       "output_type": "stream",
       "stream": "stdout",
       "text": [
        "\n"
       ]
      },
      {
       "ename": "IOError",
       "evalue": "[Errno 2] No such file or directory: '/Users/samway/Documents/Work/TopicModeling/slda/scratch/inf-gamma.dat'",
       "output_type": "pyerr",
       "traceback": [
        "\u001b[0;31m---------------------------------------------------------------------------\u001b[0m\n\u001b[0;31mIOError\u001b[0m                                   Traceback (most recent call last)",
        "\u001b[0;32m<ipython-input-9-f6536b6113c8>\u001b[0m in \u001b[0;36m<module>\u001b[0;34m()\u001b[0m\n\u001b[1;32m     26\u001b[0m             '''\n\u001b[1;32m     27\u001b[0m \u001b[0;34m\u001b[0m\u001b[0m\n\u001b[0;32m---> 28\u001b[0;31m             \u001b[0mtxd_training_matrix\u001b[0m \u001b[0;34m=\u001b[0m \u001b[0mdim_redux\u001b[0m\u001b[0;34m.\u001b[0m\u001b[0mfit_transform\u001b[0m\u001b[0;34m(\u001b[0m\u001b[0mtraining_matrix\u001b[0m\u001b[0;34m,\u001b[0m \u001b[0mtraining_labels\u001b[0m\u001b[0;34m)\u001b[0m\u001b[0;34m\u001b[0m\u001b[0m\n\u001b[0m\u001b[1;32m     29\u001b[0m             \u001b[0mtxd_test_matrix\u001b[0m \u001b[0;34m=\u001b[0m \u001b[0mdim_redux\u001b[0m\u001b[0;34m.\u001b[0m\u001b[0mtransform\u001b[0m\u001b[0;34m(\u001b[0m\u001b[0mtest_matrix\u001b[0m\u001b[0;34m)\u001b[0m\u001b[0;34m\u001b[0m\u001b[0m\n\u001b[1;32m     30\u001b[0m \u001b[0;34m\u001b[0m\u001b[0m\n",
        "\u001b[0;32m/Users/samway/Documents/Work/TopicModeling/biotm/topic_models/slda/slda.pyc\u001b[0m in \u001b[0;36mfit_transform\u001b[0;34m(self, X, y)\u001b[0m\n\u001b[1;32m     65\u001b[0m \u001b[0;34m\u001b[0m\u001b[0m\n\u001b[1;32m     66\u001b[0m     \u001b[0;32mdef\u001b[0m \u001b[0mfit_transform\u001b[0m\u001b[0;34m(\u001b[0m\u001b[0mself\u001b[0m\u001b[0;34m,\u001b[0m \u001b[0mX\u001b[0m\u001b[0;34m,\u001b[0m \u001b[0my\u001b[0m\u001b[0;34m=\u001b[0m\u001b[0mNone\u001b[0m\u001b[0;34m)\u001b[0m\u001b[0;34m:\u001b[0m\u001b[0;34m\u001b[0m\u001b[0m\n\u001b[0;32m---> 67\u001b[0;31m         \u001b[0mself\u001b[0m\u001b[0;34m.\u001b[0m\u001b[0mfit\u001b[0m\u001b[0;34m(\u001b[0m\u001b[0mX\u001b[0m\u001b[0;34m,\u001b[0m \u001b[0my\u001b[0m\u001b[0;34m)\u001b[0m\u001b[0;34m\u001b[0m\u001b[0m\n\u001b[0m\u001b[1;32m     68\u001b[0m         \u001b[0;32mreturn\u001b[0m \u001b[0mself\u001b[0m\u001b[0;34m.\u001b[0m\u001b[0mtransform\u001b[0m\u001b[0;34m(\u001b[0m\u001b[0mX\u001b[0m\u001b[0;34m,\u001b[0m \u001b[0my\u001b[0m\u001b[0;34m)\u001b[0m\u001b[0;34m\u001b[0m\u001b[0m\n\u001b[1;32m     69\u001b[0m \u001b[0;34m\u001b[0m\u001b[0m\n",
        "\u001b[0;32m/Users/samway/Documents/Work/TopicModeling/biotm/topic_models/slda/slda.pyc\u001b[0m in \u001b[0;36mtransform\u001b[0;34m(self, X, y)\u001b[0m\n\u001b[1;32m     59\u001b[0m         \u001b[0msystem\u001b[0m\u001b[0;34m(\u001b[0m\u001b[0;34m'sleep 3'\u001b[0m\u001b[0;34m)\u001b[0m\u001b[0;34m\u001b[0m\u001b[0m\n\u001b[1;32m     60\u001b[0m \u001b[0;34m\u001b[0m\u001b[0m\n\u001b[0;32m---> 61\u001b[0;31m         \u001b[0mgamma_file\u001b[0m \u001b[0;34m=\u001b[0m \u001b[0mpath_join\u001b[0m\u001b[0;34m(\u001b[0m\u001b[0mself\u001b[0m\u001b[0;34m.\u001b[0m\u001b[0mtemp_dir\u001b[0m\u001b[0;34m,\u001b[0m \u001b[0;34m'inf-gamma.dat'\u001b[0m\u001b[0;34m)\u001b[0m\u001b[0;34m\u001b[0m\u001b[0m\n\u001b[0m\u001b[1;32m     62\u001b[0m         \u001b[0mXbar\u001b[0m \u001b[0;34m=\u001b[0m \u001b[0marray\u001b[0m\u001b[0;34m(\u001b[0m\u001b[0;34m[\u001b[0m\u001b[0;34m[\u001b[0m\u001b[0mfloat\u001b[0m\u001b[0;34m(\u001b[0m\u001b[0mx\u001b[0m\u001b[0;34m)\u001b[0m \u001b[0;32mfor\u001b[0m \u001b[0mx\u001b[0m \u001b[0;32min\u001b[0m \u001b[0mline\u001b[0m\u001b[0;34m.\u001b[0m\u001b[0mstrip\u001b[0m\u001b[0;34m(\u001b[0m\u001b[0;34m)\u001b[0m\u001b[0;34m.\u001b[0m\u001b[0msplit\u001b[0m\u001b[0;34m(\u001b[0m\u001b[0;34m)\u001b[0m\u001b[0;34m]\u001b[0m\u001b[0;32mfor\u001b[0m \u001b[0mline\u001b[0m \u001b[0;32min\u001b[0m \u001b[0mopen\u001b[0m\u001b[0;34m(\u001b[0m\u001b[0mgamma_file\u001b[0m\u001b[0;34m,\u001b[0m \u001b[0;34m'rU'\u001b[0m\u001b[0;34m)\u001b[0m\u001b[0;34m]\u001b[0m\u001b[0;34m)\u001b[0m\u001b[0;34m\u001b[0m\u001b[0m\n\u001b[1;32m     63\u001b[0m         \u001b[0;32mreturn\u001b[0m \u001b[0mXbar\u001b[0m\u001b[0;34m\u001b[0m\u001b[0m\n",
        "\u001b[0;31mIOError\u001b[0m: [Errno 2] No such file or directory: '/Users/samway/Documents/Work/TopicModeling/slda/scratch/inf-gamma.dat'"
       ]
      }
     ],
     "prompt_number": 9
    },
    {
     "cell_type": "code",
     "collapsed": false,
     "input": [],
     "language": "python",
     "metadata": {},
     "outputs": []
    }
   ],
   "metadata": {}
  }
 ]
}