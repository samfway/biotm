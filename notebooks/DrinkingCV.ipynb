{
 "metadata": {
  "name": "",
  "signature": "sha256:6fee6ed8a1704444bb5f907c90008f70faebb2eeb1e29fdee16d44878ef0a141"
 },
 "nbformat": 3,
 "nbformat_minor": 0,
 "worksheets": [
  {
   "cells": [
    {
     "cell_type": "code",
     "collapsed": false,
     "input": [
      "from biotm.parse.fileio import load_dataset, parse_mapping_file_to_dataframe\n",
      "from biotm.topic_models.plsa.plsa import plsa\n",
      "from biotm.plotting.grouped_box import make_grouped_box\n",
      "\n",
      "import matplotlib.pyplot as plt\n",
      "import brewer2mpl\n",
      "\n",
      "import pandas as pd\n",
      "from numpy import array, zeros\n",
      "from numpy.random import randint\n",
      "from scipy.stats import ranksums, f_oneway \n",
      "\n",
      "from sklearn.decomposition import TruncatedSVD, KernelPCA, FastICA, MiniBatchDictionaryLearning, NMF\n",
      "from sklearn.ensemble import RandomForestRegressor\n",
      "from sklearn.cross_validation import StratifiedKFold\n",
      "from sklearn.metrics import mean_squared_error, mean_absolute_error, r2_score"
     ],
     "language": "python",
     "metadata": {},
     "outputs": [],
     "prompt_number": 27
    },
    {
     "cell_type": "heading",
     "level": 2,
     "metadata": {},
     "source": [
      "Load Drinking Dataset"
     ]
    },
    {
     "cell_type": "markdown",
     "metadata": {},
     "source": [
      "- c_alcohol_7_disna - #days drank that week\n",
      "- c_alcohol_8_disna - #drinks that week\n",
      "- c_alcohol_9_disna - #days drank that week, coded\n",
      "- c_alcohol_10_disna - #drinks that week, coded\n",
      "- cc_tobacco_4_mje_disna - used tobacco at least once a week for the past 6 month"
     ]
    },
    {
     "cell_type": "code",
     "collapsed": false,
     "input": [
      "mapping_file = '/Users/samway/Documents/Work/TopicModeling/biotm/data/drinking/drinking.mapping.txt'\n",
      "otu_file = '/Users/samway/Documents/Work/TopicModeling/biotm/data/drinking/drinking.biom'\n",
      "metadata_value = None\n",
      "metadata_category = 'c_alcohol_7_disna'\n",
      "\n",
      "otu_fp = open(otu_file, 'rU')\n",
      "map_fp = open(mapping_file, 'rU')\n",
      "\n",
      "data_matrix, sample_ids, taxonomy, labels, label_legend = \\\n",
      "    load_dataset(otu_fp, map_fp, metadata_category, metadata_value)\n",
      "    \n",
      "mdf = parse_mapping_file_to_dataframe(open(mapping_file, 'rU'))\n",
      "\n",
      "print \"Data matrix dimensions: \", data_matrix.shape \n",
      "print \"Number of Sample IDs: \" , len(sample_ids)\n",
      "print \"Number of Labels: \", len(labels)\n",
      "print \"Sum of all counts: \", data_matrix.sum()"
     ],
     "language": "python",
     "metadata": {},
     "outputs": [
      {
       "output_type": "stream",
       "stream": "stdout",
       "text": [
        "Data matrix dimensions:  (1078, 2321)\n",
        "Number of Sample IDs:  1078\n",
        "Number of Labels:  1078\n",
        "Sum of all counts:  157240829.0\n"
       ]
      }
     ],
     "prompt_number": 19
    },
    {
     "cell_type": "code",
     "collapsed": false,
     "input": [
      "relevant_indices = array([i for i,v in enumerate(labels) \n",
      "                          if (label_legend[v] != 'NA')\n",
      "                          and (label_legend[v] != 'CON')])  # Get rid of NA and CON values\n",
      "data_matrix = data_matrix[relevant_indices, :]\n",
      "sample_ids = sample_ids[relevant_indices]\n",
      "labels = labels[relevant_indices]\n",
      "\n",
      "pos_label = label_legend.index('1')\n",
      "labels = array([int(l == pos_label) for l in labels])  # Convert to binary labels\n",
      "\n",
      "print \"Data matrix dimensions: \", data_matrix.shape \n",
      "print \"Number of Sample IDs: \" , len(sample_ids)\n",
      "print \"Number of Labels: \", len(labels)\n",
      "print \"Sum of all counts: \", data_matrix.sum()"
     ],
     "language": "python",
     "metadata": {},
     "outputs": [
      {
       "output_type": "stream",
       "stream": "stdout",
       "text": [
        "Data matrix dimensions:  (838, 2321)\n",
        "Number of Sample IDs:  838\n",
        "Number of Labels:  838\n",
        "Sum of all counts:  120418486.0\n"
       ]
      }
     ],
     "prompt_number": 20
    },
    {
     "cell_type": "heading",
     "level": 2,
     "metadata": {},
     "source": [
      "Set up experiment"
     ]
    },
    {
     "cell_type": "code",
     "collapsed": false,
     "input": [
      "num_folds = 10\n",
      "dim_steps = [3, 5, 10, 25, 50]\n",
      "regressors = [(RandomForestRegressor(), 'Random Forest')]\n",
      "\n",
      "dim_redux_techniques = [(plsa, 'PLSA'), (lda, 'LDA'), (TruncatedSVD, 'Truncated SVD'), (NMF, 'NMF'), (None, 'None')]\n",
      "#dim_redux_techniques = [(plsa, 'PLSA'), (TruncatedSVD, 'Truncated SVD'), (NMF, 'NMF'), (None, 'None')]\n",
      "num_colors = max(3, len(dim_redux_techniques))\n",
      "color_map = brewer2mpl.get_map('Set2', 'qualitative', num_colors).mpl_colors\n",
      "dim_redux_colors = dict(zip([dr_name for (dr, dr_name) in dim_redux_techniques], color_map[:len(dim_redux_techniques)]))\n",
      "\n",
      "cv_folds = StratifiedKFold(labels, num_folds)\n",
      "test_lengths = [len(test) for (train, test) in cv_folds]\n",
      "\n",
      "notes_filename = 'drinking_notes.csv'\n",
      "preds_filename = 'drinking_preds.csv'"
     ],
     "language": "python",
     "metadata": {},
     "outputs": [],
     "prompt_number": 21
    },
    {
     "cell_type": "heading",
     "level": 2,
     "metadata": {},
     "source": [
      "Run experiment"
     ]
    },
    {
     "cell_type": "code",
     "collapsed": false,
     "input": [
      "notes_file = open(notes_filename, 'w')\n",
      "preds_file = open(preds_filename, 'w')\n",
      "\n",
      "notes_file.write('index,cv_fold,method,k,model_name\\n')\n",
      "overall_index = 0\n",
      "\n",
      "for cv_fold, (training, testing) in enumerate(cv_folds):\n",
      "    training_matrix = data_matrix[training,:]\n",
      "    training_labels = labels[training]\n",
      "    test_matrix = data_matrix[testing,:]\n",
      "    test_labels = labels[testing]\n",
      "    \n",
      "    print \"CV Fold %d of %d...\" % (cv_fold+1, num_folds)\n",
      "    \n",
      "    for num_dims in dim_steps:\n",
      "    \n",
      "        for (dim_redux, dim_redux_name) in dim_redux_techniques:\n",
      "            if dim_redux is not None:\n",
      "                trf = dim_redux(n_components=num_dims)\n",
      "                txd_training_matrix = trf.fit_transform(training_matrix)\n",
      "                txd_test_matrix = trf.transform(test_matrix)\n",
      "            else:\n",
      "                txd_training_matrix = training_matrix\n",
      "                txd_test_matrix = test_matrix\n",
      "            \n",
      "            for (rgr, rgr_name) in regressors:\n",
      "                rgr.fit(txd_training_matrix, training_labels)\n",
      "                preds = rgr.predict(txd_test_matrix)\n",
      "                notes_file.write('%d,%d,%s,%d,%s\\n' % (overall_index,\n",
      "                                                       cv_fold,\n",
      "                                                       dim_redux_name,\n",
      "                                                       num_dims,\n",
      "                                                       rgr_name))\n",
      "                overall_index += 1\n",
      "                preds_file.write(','.join([str(p) for p in preds]) + '\\n')\n",
      "                                                       \n",
      "notes_file.close()\n",
      "preds_file.close()"
     ],
     "language": "python",
     "metadata": {},
     "outputs": [
      {
       "output_type": "stream",
       "stream": "stderr",
       "text": [
        "/Users/samway/Documents/Work/PythonEnvironments/science/lib/python2.7/site-packages/sklearn/decomposition/nmf.py:539: UserWarning: Iteration limit reached during fit\n",
        "  warnings.warn(\"Iteration limit reached during fit\")\n",
        "/Users/samway/Documents/Work/PythonEnvironments/science/lib/python2.7/site-packages/sklearn/decomposition/nmf.py:254: UserWarning: Iteration limit reached in nls subproblem.\n",
        "  warnings.warn(\"Iteration limit reached in nls subproblem.\")\n"
       ]
      },
      {
       "output_type": "stream",
       "stream": "stdout",
       "text": [
        "CV Fold 1 of 10...\n",
        "CV Fold 2 of 10..."
       ]
      },
      {
       "output_type": "stream",
       "stream": "stdout",
       "text": [
        "\n",
        "CV Fold 3 of 10..."
       ]
      },
      {
       "output_type": "stream",
       "stream": "stdout",
       "text": [
        "\n",
        "CV Fold 4 of 10..."
       ]
      },
      {
       "output_type": "stream",
       "stream": "stdout",
       "text": [
        "\n",
        "CV Fold 5 of 10..."
       ]
      },
      {
       "output_type": "stream",
       "stream": "stdout",
       "text": [
        "\n",
        "CV Fold 6 of 10..."
       ]
      },
      {
       "output_type": "stream",
       "stream": "stdout",
       "text": [
        "\n",
        "CV Fold 7 of 10..."
       ]
      },
      {
       "output_type": "stream",
       "stream": "stdout",
       "text": [
        "\n",
        "CV Fold 8 of 10..."
       ]
      },
      {
       "output_type": "stream",
       "stream": "stdout",
       "text": [
        "\n",
        "CV Fold 9 of 10..."
       ]
      },
      {
       "output_type": "stream",
       "stream": "stdout",
       "text": [
        "\n",
        "CV Fold 10 of 10..."
       ]
      },
      {
       "output_type": "stream",
       "stream": "stdout",
       "text": [
        "\n"
       ]
      }
     ],
     "prompt_number": 22
    },
    {
     "cell_type": "heading",
     "level": 2,
     "metadata": {},
     "source": [
      "Load and analyze results"
     ]
    },
    {
     "cell_type": "code",
     "collapsed": false,
     "input": [
      "notes = pd.read_csv(notes_filename)\n",
      "predictions = pd.read_csv(preds_filename, header=None)\n",
      "\n",
      "cv_scores = zeros(num_folds)\n",
      "\n",
      "fig, ax = plt.subplots(figsize=(10, 8), dpi=80)\n",
      "plot_data = []\n",
      "\n",
      "for (dim_redux, dim_redux_name) in dim_redux_techniques:\n",
      "    rgr_name = regressors[0][1]\n",
      "    rgr_data = [] \n",
      "    for n, num_dims in enumerate(dim_steps):    \n",
      "        for cv_fold, (training, testing) in enumerate(cv_folds):\n",
      "            test_labels = labels[testing]\n",
      "            ind = int(notes[(notes.method == dim_redux_name) & \n",
      "                            (notes.model_name == rgr_name) & \n",
      "                            (notes.k == num_dims) &\n",
      "                            (notes.cv_fold == cv_fold)].index)\n",
      "            preds = predictions.loc[ind].as_matrix()[:len(testing)]\n",
      "            cv_scores[cv_fold] = mean_squared_error(test_labels, preds)\n",
      "                \n",
      "        rgr_data.append(cv_scores.copy())\n",
      "    plot_data.append(rgr_data)  \n",
      "    \n",
      "plot_data = array(plot_data)        \n",
      "names = [name for dr, name in dim_redux_techniques]\n",
      "points = [str(step) for step in dim_steps]\n",
      "make_grouped_box(ax, plot_data, names, xticklabels=points)\n",
      "        \n",
      "ax.set_xlabel('Number of dimensions')\n",
      "ax.set_ylabel('Mean Squared Error (MSE)')\n",
      "plt.show()"
     ],
     "language": "python",
     "metadata": {},
     "outputs": [
      {
       "metadata": {},
       "output_type": "display_data",
       "png": "[encoded data removed]",
       "text": [
        "<matplotlib.figure.Figure at 0x10fa50fd0>"
       ]
      }
     ],
     "prompt_number": 29
    },
    {
     "cell_type": "code",
     "collapsed": false,
     "input": [],
     "language": "python",
     "metadata": {},
     "outputs": []
    }
   ],
   "metadata": {}
  }
 ]
}