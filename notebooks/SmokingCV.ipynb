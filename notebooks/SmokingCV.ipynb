{
 "metadata": {
  "name": "",
  "signature": "sha256:b93c1ee6a2c0788824813f442cae25bdf503dd93d05ed9ab86bbc82560696fc3"
 },
 "nbformat": 3,
 "nbformat_minor": 0,
 "worksheets": [
  {
   "cells": [
    {
     "cell_type": "code",
     "collapsed": false,
     "input": [
      "from biotm.parse.fileio import load_dataset\n",
      "from biotm.topic_models.plsa.plsa import plsa\n",
      "from biotm.plotting.grouped_box import make_grouped_box, color_bp\n",
      "\n",
      "import matplotlib.pyplot as plt\n",
      "import brewer2mpl\n",
      "\n",
      "import pandas as pd\n",
      "from numpy import array, zeros\n",
      "from numpy.random import randint\n",
      "from scipy.stats import ranksums, f_oneway \n",
      "\n",
      "from sklearn.decomposition import TruncatedSVD, KernelPCA, FastICA, MiniBatchDictionaryLearning, NMF\n",
      "from sklearn.svm import SVC\n",
      "from sklearn.linear_model import LogisticRegression\n",
      "from sklearn.ensemble import RandomForestClassifier\n",
      "from sklearn.cross_validation import StratifiedKFold\n",
      "from sklearn.metrics import f1_score, roc_auc_score, accuracy_score"
     ],
     "language": "python",
     "metadata": {},
     "outputs": [],
     "prompt_number": 22
    },
    {
     "cell_type": "heading",
     "level": 2,
     "metadata": {},
     "source": [
      "Load dataset"
     ]
    },
    {
     "cell_type": "markdown",
     "metadata": {},
     "source": [
      "This section loads in the dataset into a term-document matrix and corresponding document labels (smoker/non-smoker)."
     ]
    },
    {
     "cell_type": "code",
     "collapsed": false,
     "input": [
      "mapping_file = '/Users/samway/Documents/Work/TopicModeling/biotm/data/smoking/smoking.mapping.txt'\n",
      "otu_file = '/Users/samway/Documents/Work/TopicModeling/biotm/data/smoking/smoking.biom'\n",
      "metadata_category = 'Smoking_Simple'\n",
      "metadata_value = None\n",
      "\n",
      "otu_fp = open(otu_file, 'rU')\n",
      "map_fp = open(mapping_file, 'rU')\n",
      "\n",
      "data_matrix, sample_ids, taxonomy, labels, label_legend = \\\n",
      "    load_dataset(otu_fp, map_fp, metadata_category, metadata_value)\n",
      "        \n",
      "relevant_indices = array([i for i,v in enumerate(labels) if label_legend[v] != 'NA'])\n",
      "num_discarded = len(sample_ids) - len(relevant_indices)\n",
      "data_matrix = data_matrix[relevant_indices, :]\n",
      "sample_ids = sample_ids[relevant_indices]\n",
      "labels = labels[relevant_indices]\n",
      "\n",
      "pos_label = label_legend.index('1')\n",
      "labels = array([int(l == pos_label) for l in labels])  # Convert to binary labels\n",
      "\n",
      "print \"Data matrix dimensions: \", data_matrix.shape \n",
      "print \"Number of Sample IDs: \" , len(sample_ids)\n",
      "print \"Number of Labels: \", len(labels)\n",
      "print \"Sum of all counts: \", data_matrix.sum()\n",
      "print \"Number of discarded records: \", num_discarded"
     ],
     "language": "python",
     "metadata": {},
     "outputs": [
      {
       "output_type": "stream",
       "stream": "stdout",
       "text": [
        "Data matrix dimensions:  (202, 793)\n",
        "Number of Sample IDs:  202\n",
        "Number of Labels:  202\n",
        "Sum of all counts:  177498.0\n",
        "Number of discarded records:  24\n"
       ]
      }
     ],
     "prompt_number": 9
    },
    {
     "cell_type": "heading",
     "level": 2,
     "metadata": {},
     "source": [
      "Set up experiment"
     ]
    },
    {
     "cell_type": "code",
     "collapsed": false,
     "input": [
      "num_folds = 10\n",
      "dim_steps = [3, 5, 10, 25, 50]\n",
      "classifiers = [(LogisticRegression(), 'Logistic Regression')]\n",
      "#classifiers = [(RandomForestClassifier(), 'Random Forest')]\n",
      "use_proba = False\n",
      "\n",
      "dim_redux_techniques = [(plsa, 'PLSA'), (TruncatedSVD, 'Truncated SVD'), (NMF, 'NMF'), (None, 'None')]\n",
      "num_colors = max(3, len(dim_redux_techniques))\n",
      "color_map = brewer2mpl.get_map('Set2', 'qualitative', num_colors).mpl_colors\n",
      "dim_redux_colors = dict(zip([dr_name for (dr, dr_name) in dim_redux_techniques], color_map[:len(dim_redux_techniques)]))\n",
      "\n",
      "cv_folds = StratifiedKFold(labels, num_folds)\n",
      "test_lengths = [len(test) for (train, test) in cv_folds]\n",
      "\n",
      "notes_filename = 'smoking_logreg_notes.csv'\n",
      "preds_filename = 'smoking_logreg_preds.csv'"
     ],
     "language": "python",
     "metadata": {},
     "outputs": [],
     "prompt_number": 20
    },
    {
     "cell_type": "heading",
     "level": 2,
     "metadata": {},
     "source": [
      "Run full experiment"
     ]
    },
    {
     "cell_type": "code",
     "collapsed": false,
     "input": [
      "notes_file = open(notes_filename, 'w')\n",
      "preds_file = open(preds_filename, 'w')\n",
      "\n",
      "notes_file.write('index,cv_fold,method,k,classifier\\n')\n",
      "overall_index = 0\n",
      "\n",
      "for cv_fold, (training, testing) in enumerate(cv_folds):\n",
      "    training_matrix = data_matrix[training,:]\n",
      "    training_labels = labels[training]\n",
      "    test_matrix = data_matrix[testing,:]\n",
      "    test_labels = labels[testing]\n",
      "    \n",
      "    print \"CV Fold %d of %d...\" % (cv_fold+1, num_folds)\n",
      "    \n",
      "    for num_dims in dim_steps:\n",
      "    \n",
      "        for (dim_redux, dim_redux_name) in dim_redux_techniques:\n",
      "            if dim_redux is not None:\n",
      "                trf = dim_redux(n_components=num_dims)\n",
      "                txd_training_matrix = trf.fit_transform(training_matrix)\n",
      "                txd_test_matrix = trf.transform(test_matrix)\n",
      "            else:\n",
      "                txd_training_matrix = training_matrix\n",
      "                txd_test_matrix = test_matrix\n",
      "            \n",
      "            for (clf, clf_name) in classifiers:\n",
      "                clf.fit(txd_training_matrix, training_labels)\n",
      "                \n",
      "                if use_proba:\n",
      "                    probs = clf.predict_proba(txd_test_matrix)\n",
      "                    # Predictions are the probability of the positive class.\n",
      "                    preds = probs[:,1]\n",
      "                else:\n",
      "                    preds = clf.predict(txd_test_matrix)\n",
      "                notes_file.write('%d,%d,%s,%d,%s\\n' % (overall_index,\n",
      "                                                       cv_fold,\n",
      "                                                       dim_redux_name,\n",
      "                                                       num_dims,\n",
      "                                                       clf_name))\n",
      "                overall_index += 1\n",
      "                preds_file.write(','.join([str(p) for p in preds]) + '\\n')\n",
      "                                                       \n",
      "notes_file.close()\n",
      "preds_file.close()"
     ],
     "language": "python",
     "metadata": {},
     "outputs": [
      {
       "output_type": "stream",
       "stream": "stdout",
       "text": [
        "CV Fold 1 of 10...\n",
        "CV Fold 2 of 10..."
       ]
      },
      {
       "output_type": "stream",
       "stream": "stdout",
       "text": [
        "\n",
        "CV Fold 3 of 10..."
       ]
      },
      {
       "output_type": "stream",
       "stream": "stdout",
       "text": [
        "\n",
        "CV Fold 4 of 10..."
       ]
      },
      {
       "output_type": "stream",
       "stream": "stdout",
       "text": [
        "\n",
        "CV Fold 5 of 10..."
       ]
      },
      {
       "output_type": "stream",
       "stream": "stdout",
       "text": [
        "\n",
        "CV Fold 6 of 10..."
       ]
      },
      {
       "output_type": "stream",
       "stream": "stdout",
       "text": [
        "\n",
        "CV Fold 7 of 10..."
       ]
      },
      {
       "output_type": "stream",
       "stream": "stdout",
       "text": [
        "\n",
        "CV Fold 8 of 10..."
       ]
      },
      {
       "output_type": "stream",
       "stream": "stdout",
       "text": [
        "\n",
        "CV Fold 9 of 10..."
       ]
      },
      {
       "output_type": "stream",
       "stream": "stdout",
       "text": [
        "\n",
        "CV Fold 10 of 10..."
       ]
      },
      {
       "output_type": "stream",
       "stream": "stdout",
       "text": [
        "\n"
       ]
      }
     ],
     "prompt_number": 16
    },
    {
     "cell_type": "heading",
     "level": 2,
     "metadata": {},
     "source": [
      "Load and analyze results"
     ]
    },
    {
     "cell_type": "code",
     "collapsed": false,
     "input": [
      "notes = pd.read_csv(notes_filename)\n",
      "predictions = pd.read_csv(preds_filename, header=None)\n",
      "\n",
      "cv_scores = zeros(num_folds)\n",
      "dim_avg = zeros(len(dim_steps))\n",
      "dim_std = zeros(len(dim_steps))\n",
      "\n",
      "fig, ax = plt.subplots(figsize=(10, 8), dpi=80)\n",
      "plot_data = []\n",
      "\n",
      "for (dim_redux, dim_redux_name) in dim_redux_techniques:\n",
      "    clf_name = classifiers[0][1]\n",
      "    clf_data = [] \n",
      "    for n, num_dims in enumerate(dim_steps):    \n",
      "        for cv_fold, (training, testing) in enumerate(cv_folds):\n",
      "            test_labels = labels[testing]\n",
      "            ind = int(notes[(notes.method == dim_redux_name) & \n",
      "                            (notes.classifier == clf_name) & \n",
      "                            (notes.k == num_dims) &\n",
      "                            (notes.cv_fold == cv_fold)].index)\n",
      "            preds = predictions.loc[ind].as_matrix()[:len(testing)]\n",
      "            if use_proba:\n",
      "                cv_scores[cv_fold] = roc_auc_score(test_labels, preds)\n",
      "            else:\n",
      "                cv_scores[cv_fold] = f1_score(test_labels, preds)\n",
      "                \n",
      "        clf_data.append(cv_scores.copy())\n",
      "    plot_data.append(clf_data)  \n",
      "    \n",
      "plot_data = array(plot_data)        \n",
      "names = [name for dr, name in dim_redux_techniques]\n",
      "points = [str(step) for step in dim_steps]\n",
      "make_grouped_box(ax, plot_data, names, xticklabels=points)\n",
      "        \n",
      "ax.set_xlabel('Number of dimensions')\n",
      "if use_proba: \n",
      "    ax.set_ylabel('AUC Score')\n",
      "else:\n",
      "    ax.set_ylabel('F1 Measure')\n",
      "ax.set_ylim([0.3, 1.2])\n",
      "plt.show()"
     ],
     "language": "python",
     "metadata": {},
     "outputs": [
      {
       "output_type": "stream",
       "stream": "stderr",
       "text": [
        "/Users/samway/Documents/Work/PythonEnvironments/science/lib/python2.7/site-packages/sklearn/metrics/metrics.py:1249: UserWarning: The sum of true positives and false positives are equal to zero for some labels. Precision is ill defined for those labels [0]. The precision and recall are equal to zero for some labels. fbeta_score is ill defined for those labels [0]. \n",
        "  average=average)\n",
        "/Users/samway/Documents/Work/PythonEnvironments/science/lib/python2.7/site-packages/sklearn/metrics/metrics.py:1249: UserWarning: The precision and recall are equal to zero for some labels. fbeta_score is ill defined for those labels [0]. \n",
        "  average=average)\n"
       ]
      },
      {
       "metadata": {},
       "output_type": "display_data",
       "png": "[encoded data removed]",
       "text": [
        "<matplotlib.figure.Figure at 0x10c68e4d0>"
       ]
      }
     ],
     "prompt_number": 21
    },
    {
     "cell_type": "heading",
     "level": 2,
     "metadata": {},
     "source": [
      "Messing with stats"
     ]
    },
    {
     "cell_type": "code",
     "collapsed": false,
     "input": [
      "techniques = [dim_redux_name for (dim_redux, dim_redux_name) in dim_redux_techniques]\n",
      "if 'None' in techniques:\n",
      "    none_index = techniques.index('None')\n",
      "    for k_index, num_dims in enumerate(dim_steps):\n",
      "        print '\\nK = %d:' % num_dims\n",
      "        none_scores = plot_data[none_index][k_index]\n",
      "        for i, (dim_redux, dim_redux_name) in enumerate(dim_redux_techniques):\n",
      "            if i == none_index: \n",
      "                continue\n",
      "            scores = plot_data[i][k_index]\n",
      "            z_stat, p_val = ranksums(none_scores, scores)\n",
      "            print '%s:\\t%.4f' % (dim_redux_name, p_val)\n",
      "            \n",
      "        anova_data = [plot_data[i][k_index] for i in xrange(len(techniques))]\n",
      "        f_val, p_val = f_oneway(*anova_data)\n",
      "        print 'One-way ANOVA: %0.4f' % (p_val)"
     ],
     "language": "python",
     "metadata": {},
     "outputs": [
      {
       "output_type": "stream",
       "stream": "stdout",
       "text": [
        "\n",
        "K = 3:\n",
        "PLSA:\t0.0494\n",
        "Truncated SVD:\t0.0211\n",
        "NMF:\t0.0963\n",
        "One-way ANOVA: 0.0634\n",
        "\n",
        "K = 5:\n",
        "PLSA:\t0.0696\n",
        "Truncated SVD:\t0.0640\n",
        "NMF:\t0.0963\n",
        "One-way ANOVA: 0.1317\n",
        "\n",
        "K = 10:\n",
        "PLSA:\t0.1988\n",
        "Truncated SVD:\t0.1212\n",
        "NMF:\t0.0640\n",
        "One-way ANOVA: 0.2935\n",
        "\n",
        "K = 25:\n",
        "PLSA:\t0.8501\n",
        "Truncated SVD:\t0.3643\n",
        "NMF:\t0.1041\n",
        "One-way ANOVA: 0.1488\n",
        "\n",
        "K = 50:\n",
        "PLSA:\t0.5967\n",
        "Truncated SVD:\t0.1859\n",
        "NMF:\t0.1405\n",
        "One-way ANOVA: 0.1165\n"
       ]
      }
     ],
     "prompt_number": 13
    },
    {
     "cell_type": "code",
     "collapsed": false,
     "input": [],
     "language": "python",
     "metadata": {},
     "outputs": []
    }
   ],
   "metadata": {}
  }
 ]
}