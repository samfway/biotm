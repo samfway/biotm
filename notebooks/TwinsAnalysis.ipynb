{
 "metadata": {
  "name": "",
  "signature": "sha256:e85dabab3d6897feaf975749fb044a78533dac4ae79e05de065afa6af737c51b"
 },
 "nbformat": 3,
 "nbformat_minor": 0,
 "worksheets": [
  {
   "cells": [
    {
     "cell_type": "code",
     "collapsed": false,
     "input": [
      "from biotm.parse.fileio import load_dataset, parse_mapping_file_to_dict\n",
      "from biotm.topic_models.plsa.plsa import plsa\n",
      "from biotm.plotting.grouped_box import make_grouped_box, color_bp\n",
      "\n",
      "import matplotlib.pyplot as plt\n",
      "import brewer2mpl\n",
      "\n",
      "import pandas as pd\n",
      "from numpy import array, zeros, ones, arange\n",
      "from numpy.random import randint, choice\n",
      "from scipy.stats import ranksums, f_oneway, pearsonr"
     ],
     "language": "python",
     "metadata": {},
     "outputs": [],
     "prompt_number": 1
    },
    {
     "cell_type": "heading",
     "level": 2,
     "metadata": {},
     "source": [
      "Load dataset"
     ]
    },
    {
     "cell_type": "code",
     "collapsed": false,
     "input": [
      "mapping_file = '/Users/samway/Documents/Work/TopicModeling/biotm/data/twins/twins.mapping.txt'\n",
      "otu_file = '/Users/samway/Documents/Work/TopicModeling/biotm/data/twins/twins.biom'\n",
      "metadata_category = 'Family'\n",
      "metadata_value = None\n",
      "\n",
      "otu_fp = open(otu_file, 'rU')\n",
      "map_fp = open(mapping_file, 'rU')\n",
      "\n",
      "data_matrix, sample_ids, taxonomy, labels, label_legend = \\\n",
      "    load_dataset(otu_fp, map_fp, metadata_category, metadata_value)\n",
      "    \n",
      "md_categories, mapping_dict = parse_mapping_file_to_dict(open(mapping_file, 'rU'))\n",
      "num_samples = len(sample_ids)\n",
      "    \n",
      "print \"Data matrix dimensions: \", data_matrix.shape \n",
      "print \"Number of Sample IDs: \" , num_samples\n",
      "print \"Number of Labels: \", len(labels)\n",
      "print \"Sum of all counts: \", data_matrix.sum()"
     ],
     "language": "python",
     "metadata": {},
     "outputs": [
      {
       "output_type": "stream",
       "stream": "stdout",
       "text": [
        "Data matrix dimensions:  (264, 678)\n",
        "Number of Sample IDs:  264\n",
        "Number of Labels:  264\n",
        "Sum of all counts:  427189.0\n"
       ]
      }
     ],
     "prompt_number": 2
    },
    {
     "cell_type": "code",
     "collapsed": false,
     "input": [
      "Z = 1.0*(data_matrix == 0.0)\n",
      "hist(Z.sum(axis=0)/Z.shape[0], 100, color='k')\n",
      "xlabel('Fraction of counts that are zero')\n",
      "ylabel('Number of features')\n",
      "plt.show()"
     ],
     "language": "python",
     "metadata": {},
     "outputs": [
      {
       "metadata": {},
       "output_type": "display_data",
       "png": "[encoded data removed]",
       "text": [
        "<matplotlib.figure.Figure at 0x10bf2b0d0>"
       ]
      }
     ],
     "prompt_number": 3
    },
    {
     "cell_type": "code",
     "collapsed": false,
     "input": [
      "mapping_dict[sample_ids[0]]"
     ],
     "language": "python",
     "metadata": {},
     "outputs": [
      {
       "metadata": {},
       "output_type": "pyout",
       "prompt_number": 4,
       "text": [
        "{'Age': '8',\n",
        " 'AnonymizedName': 'DZ01421',\n",
        " 'BarcodeSequence': 'AGCTGACTAGTC',\n",
        " 'CollectionYear': '1997',\n",
        " 'Family': 'DZsubjectDZ014',\n",
        " 'LinkerPrimerSequence': 'CATGCTGCCTCCCGTAGGAGT',\n",
        " 'Sex': 'male',\n",
        " 'TwinSibling': 'y',\n",
        " 'WeightClass': 'normal',\n",
        " 'Zygosity': 'DZ'}"
       ]
      }
     ],
     "prompt_number": 4
    },
    {
     "cell_type": "code",
     "collapsed": false,
     "input": [
      "dz_sample_ids = [sample_id for sample_id in sample_ids if mapping_dict[sample_id]['Zygosity'] == 'DZ']\n",
      "mz_sample_ids = [sample_id for sample_id in sample_ids if mapping_dict[sample_id]['Zygosity'] == 'MZ']\n",
      "ad_sample_ids = [sample_id for sample_id in sample_ids if mapping_dict[sample_id]['Zygosity'] == 'adopted']\n",
      "\n",
      "dz_samples = [i for i, sid in enumerate(sample_ids) if sid in dz_sample_ids]\n",
      "mz_samples = [i for i, sid in enumerate(sample_ids) if sid in mz_sample_ids]\n",
      "ad_samples = [i for i, sid in enumerate(sample_ids) if sid in ad_sample_ids]"
     ],
     "language": "python",
     "metadata": {},
     "outputs": [],
     "prompt_number": 5
    },
    {
     "cell_type": "code",
     "collapsed": false,
     "input": [
      "# Get the youngest sample for each individual.\n",
      "individual_samples = {}\n",
      "for sample in sample_ids:\n",
      "    name = mapping_dict[sample]['AnonymizedName']\n",
      "    if name in individual_samples:\n",
      "        current_age = int(mapping_dict[individual_samples[name]]['Age'])\n",
      "        sample_age = int(mapping_dict[sample]['Age'])\n",
      "        if current_age > sample_age:\n",
      "            individual_samples[name] = sample\n",
      "    else:\n",
      "        individual_samples[name] = sample\n",
      "individuals = list(individual_samples.keys())"
     ],
     "language": "python",
     "metadata": {},
     "outputs": [],
     "prompt_number": 6
    },
    {
     "cell_type": "code",
     "collapsed": false,
     "input": [
      "# Make a list of all twin pairs for each type.\n",
      "remaining_individuals = ones(len(individual_samples))\n",
      "dz_twins = []\n",
      "mz_twins = []\n",
      "ad_twins = []\n",
      "\n",
      "while remaining_individuals.sum() > 0:\n",
      "    next_ind = remaining_individuals.tolist().index(1.)  # Get index of first 1.\n",
      "    name1 = individuals[next_ind]\n",
      "    id1 = individual_samples[name1]\n",
      "    family1 = mapping_dict[id1]['Family']    \n",
      "    found_sibling = False\n",
      "    \n",
      "    for i, name2 in enumerate(individuals):\n",
      "        if name1 == name2:\n",
      "            continue\n",
      "        \n",
      "        id2 = individual_samples[name2]\n",
      "        family2 = mapping_dict[id2]['Family']\n",
      "        \n",
      "        if family1 == family2:\n",
      "            found_sibling = True\n",
      "            twin_type = mapping_dict[id1]['Zygosity'].lower()\n",
      "            if twin_type == 'dz':\n",
      "                twin_list = dz_twins\n",
      "            elif twin_type == 'mz':\n",
      "                twin_list = mz_twins\n",
      "            elif twin_type == 'adopted':\n",
      "                twin_list = ad_twins\n",
      "            else:\n",
      "                raise ValueError(\"Unexpected twin type: %s\" % mapping_dict[id1]['Zygosity'])\n",
      "            \n",
      "            twin_list.append((id1, id2))\n",
      "            remaining_individuals[i] = 0\n",
      "            \n",
      "    if not found_sibling:\n",
      "        print 'WARNING: No sibling found for', name1\n",
      "        \n",
      "    remaining_individuals[next_ind] = 0\n"
     ],
     "language": "python",
     "metadata": {},
     "outputs": [
      {
       "output_type": "stream",
       "stream": "stdout",
       "text": [
        "WARNING: No sibling found for C00362\n"
       ]
      }
     ],
     "prompt_number": 7
    },
    {
     "cell_type": "code",
     "collapsed": false,
     "input": [
      "print '%d of %d individuals matched.' % (sum(2*[len(dz_twins), len(mz_twins), len(ad_twins)]), len(individuals))"
     ],
     "language": "python",
     "metadata": {},
     "outputs": [
      {
       "output_type": "stream",
       "stream": "stdout",
       "text": [
        "106 of 107 individuals matched.\n"
       ]
      }
     ],
     "prompt_number": 8
    },
    {
     "cell_type": "code",
     "collapsed": false,
     "input": [
      "print len(data_matrix)"
     ],
     "language": "python",
     "metadata": {},
     "outputs": [
      {
       "output_type": "stream",
       "stream": "stdout",
       "text": [
        "264\n"
       ]
      }
     ],
     "prompt_number": 9
    },
    {
     "cell_type": "heading",
     "level": 2,
     "metadata": {},
     "source": [
      "Compare the groups."
     ]
    },
    {
     "cell_type": "heading",
     "level": 4,
     "metadata": {},
     "source": [
      "Run PLSA on full dataset"
     ]
    },
    {
     "cell_type": "code",
     "collapsed": false,
     "input": [
      "num_dims = 25\n",
      "tm = plsa(n_components=num_dims)\n",
      "txd_matrix = tm.fit_transform(data_matrix)"
     ],
     "language": "python",
     "metadata": {},
     "outputs": [],
     "prompt_number": 35
    },
    {
     "cell_type": "code",
     "collapsed": false,
     "input": [
      "num_samples = len(sample_ids)\n",
      "dz_vals = []\n",
      "mz_vals = []\n",
      "ot_vals = []\n",
      "plot_data = []\n",
      "\"\"\"\n",
      "Get the pairwise correlation coefficients for all individuals,\n",
      "binning scores into the three classes: identical, fraternal,\n",
      "and unrelated individuals.\n",
      "\"\"\"\n",
      "\n",
      "for i in xrange(num_samples):\n",
      "    sample_i = sample_ids[i]\n",
      "    for j in xrange(i+1, num_samples):\n",
      "        sample_j = sample_ids[j]\n",
      "        r, pval = pearsonr(txd_matrix[i,:], txd_matrix[j,:])\n",
      "        \n",
      "        if (sample_i, sample_j) in mz_twins or (sample_j, sample_i) in mz_twins:\n",
      "            mz_vals.append(r)\n",
      "        elif (sample_i, sample_j) in dz_twins or (sample_j, sample_i) in dz_twins:\n",
      "            dz_vals.append(r)\n",
      "        else:\n",
      "            ot_vals.append(r)\n",
      "            \n",
      "fig, ax = plt.subplots(figsize=(6, 6), dpi=80)\n",
      "color_map = brewer2mpl.get_map('Set1', 'qualitative', 3).mpl_colors\n",
      "\n",
      "bp = ax.boxplot([mz_vals], positions=[1], patch_artist=True, widths=.75)\n",
      "color_bp(bp, color_map[0])\n",
      "bp = ax.boxplot([dz_vals], positions=[2], patch_artist=True, widths=.75)\n",
      "color_bp(bp, color_map[1])\n",
      "bp = ax.boxplot([sampled_ot_vals], positions=[3], patch_artist=True, widths=.75)\n",
      "color_bp(bp, color_map[2])\n",
      "\n",
      "ax.set_xticks(arange(3)+1)\n",
      "ax.set_xticklabels(['Identical Twins', 'Fraternal Twins', 'Control'])\n",
      "ax.set_xlim(0.5, 3.5)\n",
      "ax.set_ylabel('Correlation of topic vectors')\n",
      "plt.show()\n",
      "\n",
      "z_stat, p_val = ranksums(mz_vals, dz_vals)\n",
      "print 'FRATERNAL vs. IDENTICAL: ', p_val\n",
      "\n",
      "z_stat, p_val = ranksums(sampled_ot_vals, dz_vals)\n",
      "print 'ADOPTED vs. IDENTICAL: ', p_val\n",
      "\n",
      "z_stat, p_val = ranksums(sampled_ot_vals, mz_vals)\n",
      "print 'ADOPTED vs. FRATERNAL: ', p_val"
     ],
     "language": "python",
     "metadata": {},
     "outputs": [
      {
       "metadata": {},
       "output_type": "display_data",
       "png": "[encoded data removed]",
       "text": [
        "<matplotlib.figure.Figure at 0x10bf89e90>"
       ]
      },
      {
       "output_type": "stream",
       "stream": "stdout",
       "text": [
        "FRATERNAL vs. IDENTICAL:  0.944587808319\n",
        "ADOPTED vs. IDENTICAL:  0.00337308400117\n",
        "ADOPTED vs. FRATERNAL:  0.000218686848686\n"
       ]
      }
     ],
     "prompt_number": 38
    },
    {
     "cell_type": "heading",
     "level": 4,
     "metadata": {},
     "source": [
      "Run PLSA on a subset of the data."
     ]
    },
    {
     "cell_type": "markdown",
     "metadata": {},
     "source": [
      "PROBLEM:  There are 45:8 twins versus non-twins.  It's very likely that PLSA is picking up on something other than genetics that's separating the groups.  Here, I'm going to run PLSA on a subset of the data to try to minimize this effect."
     ]
    },
    {
     "cell_type": "code",
     "collapsed": false,
     "input": [
      "print len(dz_twins), len(mz_twins), len(ad_twins)   # Extent of the imbalance."
     ],
     "language": "python",
     "metadata": {},
     "outputs": [
      {
       "output_type": "stream",
       "stream": "stdout",
       "text": [
        "18 27 8\n"
       ]
      }
     ],
     "prompt_number": 39
    },
    {
     "cell_type": "code",
     "collapsed": false,
     "input": [
      "min_select = min([len(dz_twins), len(mz_twins), len(ad_twins)])  # Take the same number of each\n",
      "selected_dz_pairs = choice(arange(len(dz_twins)), min_select, replace=False)\n",
      "selected_mz_pairs = choice(arange(len(mz_twins)), min_select, replace=False)\n",
      "selected_ad_pairs = choice(arange(len(ad_twins)), min_select, replace=False)\n",
      "\n",
      "selected_sample_ids = []\n",
      "twin_types = []\n",
      "\n",
      "# Add all dz samples\n",
      "for i in xrange(min_select):\n",
      "    dz_twin_pair = dz_twins[selected_dz_pairs[i]]\n",
      "    selected_sample_ids.append(dz_twin_pair[0])\n",
      "    selected_sample_ids.append(dz_twin_pair[1])\n",
      "    twin_types += ['DZ', 'DZ']\n",
      "\n",
      "# Add all mz samples\n",
      "for i in xrange(min_select):\n",
      "    mz_twin_pair = mz_twins[selected_mz_pairs[i]]\n",
      "    selected_sample_ids.append(mz_twin_pair[0])\n",
      "    selected_sample_ids.append(mz_twin_pair[1])\n",
      "    twin_types += ['MZ', 'MZ']\n",
      "\n",
      "# Add all ad samples\n",
      "for i in xrange(min_select):\n",
      "    ad_twin_pair = ad_twins[selected_ad_pairs[i]]\n",
      "    selected_sample_ids.append(ad_twin_pair[0])\n",
      "    selected_sample_ids.append(ad_twin_pair[1])\n",
      "    twin_types += ['adopted', 'adopted']\n",
      "    \n",
      "selected_samples = [sample_ids.tolist().index(s) for s in selected_sample_ids]"
     ],
     "language": "python",
     "metadata": {},
     "outputs": [],
     "prompt_number": 40
    },
    {
     "cell_type": "code",
     "collapsed": false,
     "input": [
      "selected_matrix = data_matrix[selected_samples, :]\n",
      "num_dims = 10\n",
      "tm = plsa(n_components=num_dims)\n",
      "txd_matrix = tm.fit_transform(selected_matrix)\n",
      "\n",
      "print txd_matrix.shape"
     ],
     "language": "python",
     "metadata": {},
     "outputs": [
      {
       "output_type": "stream",
       "stream": "stdout",
       "text": [
        "(48, 10)\n"
       ]
      }
     ],
     "prompt_number": 44
    },
    {
     "cell_type": "code",
     "collapsed": false,
     "input": [
      "# Look at an individual topic to see if it's used significantly more in whatever classes.\n",
      "# Three classes here are identical twins, fraternal twins, and adopted siblings. \n",
      "selected_topic = 4\n",
      "dz_vals = []\n",
      "mz_vals = []\n",
      "ad_vals = []\n",
      "\n",
      "for i, twin_type in enumerate(twin_types):\n",
      "    val = txd_matrix[i,selected_topic]\n",
      "    if twin_type == 'DZ':\n",
      "        dz_vals.append(val)\n",
      "    elif twin_type == 'MZ':\n",
      "        mz_vals.append(val)\n",
      "    elif twin_type == 'adopted':\n",
      "        ad_vals.append(val)\n",
      "    else:\n",
      "        raise ValueError('Unexpected twin type!')\n",
      "\n",
      "fig, ax = plt.subplots(figsize=(6, 6), dpi=80)\n",
      "color_map = brewer2mpl.get_map('Set1', 'qualitative', 3).mpl_colors\n",
      "\n",
      "bp = ax.boxplot([dz_vals], positions=[1], patch_artist=True, widths=.75)\n",
      "color_bp(bp, color_map[0])\n",
      "bp = ax.boxplot([mz_vals], positions=[2], patch_artist=True, widths=.75)\n",
      "color_bp(bp, color_map[1])\n",
      "bp = ax.boxplot([ad_vals], positions=[3], patch_artist=True, widths=.75)\n",
      "color_bp(bp, color_map[2])\n",
      "\n",
      "ax.set_xticks(arange(3)+1)\n",
      "ax.set_xticklabels(['Identical Twins', 'Fraternal Twins', 'Adopted Siblings'])\n",
      "ax.set_xlim(0.5, 3.5)\n",
      "ax.set_ylabel('Probability of Topic #%d' % (selected_topic+1))\n",
      "plt.show()\n",
      "\n",
      "z_stat, p_val = ranksums(mz_vals, dz_vals)\n",
      "print 'FRATERNAL vs. IDENTICAL: ', p_val\n",
      "\n",
      "z_stat, p_val = ranksums(ad_vals, dz_vals)\n",
      "print 'ADOPTED vs. IDENTICAL: ', p_val\n",
      "\n",
      "z_stat, p_val = ranksums(ad_vals, mz_vals)\n",
      "print 'ADOPTED vs. FRATERNAL: ', p_val"
     ],
     "language": "python",
     "metadata": {},
     "outputs": [
      {
       "metadata": {},
       "output_type": "display_data",
       "png": "[encoded data removed]",
       "text": [
        "<matplotlib.figure.Figure at 0x10bf71410>"
       ]
      },
      {
       "output_type": "stream",
       "stream": "stdout",
       "text": [
        "FRATERNAL vs. IDENTICAL:  0.791916752771\n",
        "ADOPTED vs. IDENTICAL:  0.969935711818\n",
        "ADOPTED vs. FRATERNAL:  0.821097583552\n"
       ]
      }
     ],
     "prompt_number": 45
    },
    {
     "cell_type": "code",
     "collapsed": false,
     "input": [
      "# Look at correlation of topic vectors inside three classes:\n",
      "# Identical twins, fraternal twins, and unrelated individuals. \n",
      "\n",
      "dz_vals = []\n",
      "mz_vals = []\n",
      "ot_vals = []\n",
      "\n",
      "for i, twin_type in enumerate(twin_types):\n",
      "    for j in xrange(i+1, len(twin_types)):\n",
      "        r, pval = pearsonr(txd_matrix[i,:], txd_matrix[j,:])\n",
      "        if twin_type == 'DZ' and j == i+1:\n",
      "            dz_vals.append(r)\n",
      "        elif twin_type == 'MZ' and j == i+1:\n",
      "            mz_vals.append(r)\n",
      "        else:\n",
      "            ot_vals.append(r)\n",
      "\n",
      "fig, ax = plt.subplots(figsize=(6, 6), dpi=80)\n",
      "color_map = brewer2mpl.get_map('Set1', 'qualitative', 3).mpl_colors\n",
      "\n",
      "#sampled_ot_vals = choice(ot_vals, 16, replace=False)\n",
      "sampled_ot_vals = ot_vals\n",
      "\n",
      "bp = ax.boxplot([dz_vals], positions=[1], patch_artist=True, widths=.75)\n",
      "color_bp(bp, color_map[0])\n",
      "bp = ax.boxplot([mz_vals], positions=[2], patch_artist=True, widths=.75)\n",
      "color_bp(bp, color_map[1])\n",
      "bp = ax.boxplot([sampled_ot_vals], positions=[3], patch_artist=True, widths=.75)\n",
      "color_bp(bp, color_map[2])\n",
      "\n",
      "ax.set_xticks(arange(3)+1)\n",
      "ax.set_xticklabels(['Identical Twins', 'Fraternal Twins', 'Adopted Siblings'])\n",
      "ax.set_xlim(0.5, 3.5)\n",
      "ax.set_ylim(-1.1, 1.1)\n",
      "ax.set_ylabel('Correlation of topic vectors')\n",
      "plt.show()\n",
      "\n",
      "#z_stat, p_val = ranksums(mz_vals, dz_vals)\n",
      "#print 'FRATERNAL vs. IDENTICAL: ', p_val\n",
      "\n",
      "z_stat, p_val = ranksums(sampled_ot_vals, dz_vals)\n",
      "print 'ADOPTED vs. IDENTICAL: ', p_val\n",
      "\n",
      "z_stat, p_val = ranksums(sampled_ot_vals, mz_vals)\n",
      "print 'ADOPTED vs. FRATERNAL: ', p_val\n",
      "\n",
      "print len(dz_vals), len(mz_vals), len(sampled_ot_vals)"
     ],
     "language": "python",
     "metadata": {},
     "outputs": [
      {
       "metadata": {},
       "output_type": "display_data",
       "png": "[encoded data removed]",
       "text": [
        "<matplotlib.figure.Figure at 0x10c5a9a10>"
       ]
      },
      {
       "output_type": "stream",
       "stream": "stdout",
       "text": [
        "ADOPTED vs. IDENTICAL:  0.0962923605776\n",
        "ADOPTED vs. FRATERNAL:  0.318195077834\n",
        "16 16 1096\n"
       ]
      }
     ],
     "prompt_number": 46
    },
    {
     "cell_type": "code",
     "collapsed": false,
     "input": [
      "# Project all samples into the topic space trained on the subset of the data. \n",
      "\n",
      "dz_vals = []\n",
      "mz_vals = []\n",
      "ot_vals = []\n",
      "\n",
      "txd_matrix = tm.transform(data_matrix)\n",
      "\n",
      "for i in xrange(num_samples):\n",
      "    sample_i = sample_ids[i]\n",
      "    for j in xrange(i+1, num_samples):\n",
      "        sample_j = sample_ids[j]\n",
      "        r, pval = pearsonr(txd_matrix[i,:], txd_matrix[j,:])\n",
      "        if (sample_i, sample_j) in mz_twins or (sample_j, sample_i) in mz_twins:\n",
      "            mz_vals.append(r)\n",
      "        elif (sample_i, sample_j) in dz_twins or (sample_j, sample_i) in dz_twins:\n",
      "            dz_vals.append(r)\n",
      "        else:\n",
      "            ot_vals.append(r)\n",
      "            \n",
      "#sampled_ot_vals = choice(ot_vals, 20, replace=False)\n",
      "\n",
      "fig, ax = plt.subplots(figsize=(6, 6), dpi=80)\n",
      "color_map = brewer2mpl.get_map('Set1', 'qualitative', 3).mpl_colors\n",
      "\n",
      "bp = ax.boxplot([mz_vals], positions=[1], patch_artist=True, widths=.75)\n",
      "color_bp(bp, color_map[0])\n",
      "bp = ax.boxplot([dz_vals], positions=[2], patch_artist=True, widths=.75)\n",
      "color_bp(bp, color_map[1])\n",
      "bp = ax.boxplot([sampled_ot_vals], positions=[3], patch_artist=True, widths=.75)\n",
      "color_bp(bp, color_map[2])\n",
      "\n",
      "ax.set_xticks(arange(3)+1)\n",
      "ax.set_xticklabels(['Identical Twins', 'Fraternal Twins', 'Control'])\n",
      "ax.set_xlim(0.5, 3.5)\n",
      "ax.set_ylabel('Correlation of topic vectors')\n",
      "plt.show()\n",
      "\n",
      "z_stat, p_val = ranksums(mz_vals, dz_vals)\n",
      "print 'FRATERNAL vs. IDENTICAL: ', p_val\n",
      "\n",
      "z_stat, p_val = ranksums(sampled_ot_vals, dz_vals)\n",
      "print 'ADOPTED vs. IDENTICAL: ', p_val\n",
      "\n",
      "z_stat, p_val = ranksums(sampled_ot_vals, mz_vals)\n",
      "print 'ADOPTED vs. FRATERNAL: ', p_val"
     ],
     "language": "python",
     "metadata": {},
     "outputs": [
      {
       "metadata": {},
       "output_type": "display_data",
       "png": "[encoded data removed]",
       "text": [
        "<matplotlib.figure.Figure at 0x10c5c2bd0>"
       ]
      },
      {
       "output_type": "stream",
       "stream": "stdout",
       "text": [
        "FRATERNAL vs. IDENTICAL:  0.676657321716\n",
        "ADOPTED vs. IDENTICAL:  8.30990117168e-05\n",
        "ADOPTED vs. FRATERNAL:  3.02021175222e-06\n"
       ]
      }
     ],
     "prompt_number": 47
    },
    {
     "cell_type": "code",
     "collapsed": false,
     "input": [],
     "language": "python",
     "metadata": {},
     "outputs": [],
     "prompt_number": 47
    },
    {
     "cell_type": "code",
     "collapsed": false,
     "input": [],
     "language": "python",
     "metadata": {},
     "outputs": [],
     "prompt_number": 47
    },
    {
     "cell_type": "code",
     "collapsed": false,
     "input": [],
     "language": "python",
     "metadata": {},
     "outputs": [],
     "prompt_number": 47
    },
    {
     "cell_type": "code",
     "collapsed": false,
     "input": [],
     "language": "python",
     "metadata": {},
     "outputs": []
    }
   ],
   "metadata": {}
  }
 ]
}