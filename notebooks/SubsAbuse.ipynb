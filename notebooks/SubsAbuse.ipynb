{
 "metadata": {
  "name": "",
  "signature": "sha256:fa2fdd19599bcccfdaacbbb84fe12e90d50c95236ffa772da8d48cb6ca53eef9"
 },
 "nbformat": 3,
 "nbformat_minor": 0,
 "worksheets": [
  {
   "cells": [
    {
     "cell_type": "code",
     "collapsed": false,
     "input": [
      "from biotm.parse.fileio import load_dataset, parse_mapping_file_to_dataframe\n",
      "from biotm.topic_models.plsa.plsa import plsa\n",
      "from biotm.topic_models.lda.lda import lda\n",
      "from biotm.plotting.grouped_box import make_grouped_box\n",
      "\n",
      "from os import path\n",
      "\n",
      "import matplotlib.pyplot as plt\n",
      "import brewer2mpl\n",
      "\n",
      "import pandas as pd\n",
      "from numpy import array, zeros, save\n",
      "from numpy.random import randint, permutation\n",
      "from scipy.stats import ranksums, f_oneway \n",
      "from numpy import load as np_load\n",
      "\n",
      "from sklearn.decomposition import TruncatedSVD, KernelPCA, FastICA, MiniBatchDictionaryLearning, NMF\n",
      "from sklearn.ensemble import RandomForestRegressor, RandomForestClassifier\n",
      "from sklearn.linear_model import LogisticRegression\n",
      "from sklearn.cross_validation import KFold\n",
      "from sklearn.metrics import mean_squared_error, mean_absolute_error, r2_score, roc_auc_score, accuracy_score "
     ],
     "language": "python",
     "metadata": {},
     "outputs": [],
     "prompt_number": 2
    },
    {
     "cell_type": "code",
     "collapsed": false,
     "input": [
      "cv_dir = '/Users/samway/Documents/Work/TopicModeling/biotm/data/substance_usage/cv_data_slda/'\n",
      "dim_steps = [3, 5, 10, 25, 50]\n",
      "dim_steps = [3, 5, 10]\n",
      "\n",
      "sample_ids = np_load(cv_dir + 'sample_ids.npy')\n",
      "data_matrix = np_load(cv_dir + 'data_matrix.npy')\n",
      "techniques = ['NMF', 'SVD', 'LDA', 'PLSA', 'SLDA']\n",
      "techniques = ['SLDA']\n",
      "num_folds = 10\n",
      "\n",
      "mapping_file = '/Users/samway/Documents/Work/TopicModeling/biotm/data/substance_usage/substance_usage.mapping.txt'\n",
      "mdf = parse_mapping_file_to_dataframe(open(mapping_file, 'rU'))"
     ],
     "language": "python",
     "metadata": {},
     "outputs": [],
     "prompt_number": 12
    },
    {
     "cell_type": "heading",
     "level": 2,
     "metadata": {},
     "source": [
      "Regression"
     ]
    },
    {
     "cell_type": "code",
     "collapsed": false,
     "input": [
      "plot_data = []\n",
      "test = 'txd_test_matrix.npy'\n",
      "train = 'txd_test_matrix.npy'\n",
      "cv_scores = zeros(num_folds)\n",
      "mdl = RandomForestRegressor()\n",
      "qual = mean_squared_error\n",
      "\n",
      "metadata_category = 'b1d_combo'\n",
      "metadata_values = array([float(mdf[mdf.SampleID==s][metadata_category]) for s in sample_ids])\n",
      "\n",
      "#min_year = min(metadata_values)\n",
      "#metadata_values = array([v-min_year for v in metadata_values])\n",
      "\n",
      "for technique in techniques:\n",
      "    tech_data = []\n",
      "    for d in dim_steps:\n",
      "        #for c in xrange(num_folds): \n",
      "        for c in [0, 1, 2, 3]: \n",
      "            prefix = '%s_%d_CV_%d_' % (technique, d, c)\n",
      "            prefix = path.join(cv_dir, prefix)\n",
      "            \n",
      "            X_test = np_load(prefix + 'txd_test_matrix.npy')\n",
      "            X_train = np_load(prefix + 'txd_training_matrix.npy')\n",
      "            test = np_load(prefix + 'testing.npy')\n",
      "            train = np_load(prefix + 'training.npy')\n",
      "            \n",
      "            y_test = metadata_values[test]\n",
      "            y_train = metadata_values[train]\n",
      "            \n",
      "            if technique == 'SLDA':\n",
      "                print len(y_test), X_test.shape, len(y_train), X_train.shape\n",
      "\n",
      "            mdl.fit(X_train, y_train)\n",
      "            y_pred = mdl.predict(X_test)\n",
      "            \n",
      "            cv_scores[c] = qual(y_test, y_pred)\n",
      "        tech_data.append(cv_scores.copy())\n",
      "    plot_data.append(tech_data)\n",
      "    \n",
      "# Get the None Scores\n",
      "print 'None Scores'\n",
      "tech_data = []\n",
      "#for x in xrange(num_folds):\n",
      "for c in [0, 1, 2, 3]: \n",
      "    prefix = 'PLSA_%d_CV_%d_' % (dim_steps[0], c)\n",
      "    prefix = path.join(cv_dir, prefix)\n",
      "    test = np_load(prefix + 'testing.npy')\n",
      "    train = np_load(prefix + 'training.npy')\n",
      "    X_test = data_matrix[test]\n",
      "    X_train = data_matrix[train]    \n",
      "    y_test = metadata_values[test]\n",
      "    y_train = metadata_values[train]\n",
      "\n",
      "    mdl.fit(X_train, y_train)\n",
      "    y_pred = mdl.predict(X_test)\n",
      "            \n",
      "    cv_scores[c] = qual(y_test, y_pred)\n",
      "for d in dim_steps:\n",
      "    tech_data.append(cv_scores.copy())\n",
      "plot_data.append(tech_data)\n",
      "\n",
      "# Add the randomized scores...\n",
      "tech_data = []\n",
      "metadata_jumble = permutation(metadata_values)\n",
      "#for c in xrange(num_folds): \n",
      "for c in [0, 1, 2, 3]: \n",
      "    prefix = 'PLSA_%d_CV_%d_' % (dim_steps[0], c)\n",
      "    prefix = path.join(cv_dir, prefix)\n",
      "    test = np_load(prefix + 'testing.npy')\n",
      "    train = np_load(prefix + 'training.npy')\n",
      "    X_test = data_matrix[test]\n",
      "    X_train = data_matrix[train]    \n",
      "    y_test = metadata_jumble[test]\n",
      "    y_train = metadata_jumble[train]\n",
      "\n",
      "    mdl.fit(X_train, y_train)\n",
      "    y_pred = mdl.predict(X_test)\n",
      "            \n",
      "    cv_scores[c] = qual(y_test, y_pred)\n",
      "for d in dim_steps:\n",
      "    tech_data.append(cv_scores.copy())\n",
      "plot_data.append(tech_data)\n",
      "\n",
      "\"\"\"\n",
      "for technique in ['PLSA']:\n",
      "    tech_data = []\n",
      "    for d in dim_steps:\n",
      "        for c in xrange(num_folds):            \n",
      "            prefix = '%s_%d_CV_%d_' % (technique, d, c)\n",
      "            prefix = path.join(cv_dir, prefix)\n",
      "            \n",
      "            #%X_test = np_load(prefix + 'txd_test_matrix.npy')\n",
      "            #X_train = np_load(prefix + 'txd_training_matrix.npy')\n",
      "            test = np_load(prefix + 'testing.npy')\n",
      "            train = np_load(prefix + 'training.npy')\n",
      "            X_test = data_matrix[test]\n",
      "            X_train = data_matrix[train]\n",
      "            \n",
      "            y_test = metadata_values[test]\n",
      "            y_train = metadata_values[train]\n",
      "\n",
      "            mdl.fit(X_train, y_train)\n",
      "            y_pred = mdl.predict(X_test)\n",
      "            \n",
      "            cv_scores[c] = qual(y_test, y_pred)\n",
      "        tech_data.append(cv_scores.copy())\n",
      "    plot_data.append(tech_data)\n",
      "\"\"\"\n",
      "\n",
      "fig, ax = plt.subplots(figsize=(10, 8), dpi=80)\n",
      "plot_data = array(plot_data)        \n",
      "names = techniques + ['None', 'Random']\n",
      "points = [str(step) for step in dim_steps]\n",
      "make_grouped_box(ax, plot_data, names, xticklabels=points)\n",
      "ax.set_ylabel('Mean Squared Error')\n",
      "ax.set_xlabel('Number of Dimensions')\n",
      "ax.set_title('Predicting \"%s\"' % (metadata_category))\n",
      "plt.savefig(metadata_category+'_vn_tfidf.pdf')\n",
      "plt.show()"
     ],
     "language": "python",
     "metadata": {},
     "outputs": [
      {
       "output_type": "stream",
       "stream": "stdout",
       "text": [
        "110 (110, 3) 983 (983, 3)\n",
        "110 (110, 3) 983 (983, 3)\n",
        "110"
       ]
      },
      {
       "output_type": "stream",
       "stream": "stdout",
       "text": [
        " (110, 3) 983 (983, 3)\n",
        "109"
       ]
      },
      {
       "output_type": "stream",
       "stream": "stdout",
       "text": [
        " (109, 3) 984 (984, 3)\n",
        "110"
       ]
      },
      {
       "output_type": "stream",
       "stream": "stdout",
       "text": [
        " (110, 5) 983 (983, 5)\n",
        "110"
       ]
      },
      {
       "output_type": "stream",
       "stream": "stdout",
       "text": [
        " (110, 5) 983 (983, 5)\n",
        "110"
       ]
      },
      {
       "output_type": "stream",
       "stream": "stdout",
       "text": [
        " (110, 5) 983 (983, 5)\n",
        "109"
       ]
      },
      {
       "output_type": "stream",
       "stream": "stdout",
       "text": [
        " (109, 5) 984 (984, 5)\n",
        "110"
       ]
      },
      {
       "output_type": "stream",
       "stream": "stdout",
       "text": [
        " (110, 10) 983 (983, 10)\n",
        "110"
       ]
      },
      {
       "output_type": "stream",
       "stream": "stdout",
       "text": [
        " (110, 10) 983 (983, 10)\n",
        "110"
       ]
      },
      {
       "output_type": "stream",
       "stream": "stdout",
       "text": [
        " (110, 10) 983 (983, 10)\n",
        "109"
       ]
      },
      {
       "output_type": "stream",
       "stream": "stdout",
       "text": [
        " (109, 10) 984 (984, 10)\n",
        "None Scores"
       ]
      },
      {
       "output_type": "stream",
       "stream": "stdout",
       "text": [
        "\n"
       ]
      },
      {
       "metadata": {},
       "output_type": "display_data",
       "png": "[encoded data removed]",
       "text": [
        "<matplotlib.figure.Figure at 0x104e3a2d0>"
       ]
      }
     ],
     "prompt_number": 13
    },
    {
     "cell_type": "code",
     "collapsed": false,
     "input": [
      "X_test, X_train"
     ],
     "language": "python",
     "metadata": {},
     "outputs": [
      {
       "metadata": {},
       "output_type": "pyout",
       "prompt_number": 43,
       "text": [
        "(array([[  5.21316364e+01,   1.00024117e-01,   2.53095185e+00, ...,\n",
        "           1.00014474e-01,   2.80409307e+02,   2.31647583e+00],\n",
        "        [  5.04855024e+01,   1.46122128e+00,   2.91828497e+01, ...,\n",
        "           2.66437588e-01,   7.12896536e+02,   2.03347651e+02],\n",
        "        [  1.00049681e-01,   1.98310331e+00,   2.80255720e+01, ...,\n",
        "           1.00048292e-01,   1.00003559e-01,   1.40864440e+01],\n",
        "        ..., \n",
        "        [  6.30401528e+02,   1.05017836e+04,   3.16727203e+01, ...,\n",
        "           1.82388936e+01,   2.35390194e+00,   4.62655544e+02],\n",
        "        [  3.94441021e+03,   9.64863039e+02,   8.47107332e+02, ...,\n",
        "           1.44517851e+03,   6.82415998e+02,   5.27500224e+02],\n",
        "        [  1.05995849e+02,   6.79589853e+03,   2.67578519e+02, ...,\n",
        "           1.95544347e+02,   5.01847515e+02,   2.83231740e+01]]),\n",
        " array([[  5.21316364e+01,   1.00024117e-01,   2.53095185e+00, ...,\n",
        "           1.00014474e-01,   2.80409307e+02,   2.31647583e+00],\n",
        "        [  5.04855024e+01,   1.46122128e+00,   2.91828497e+01, ...,\n",
        "           2.66437588e-01,   7.12896536e+02,   2.03347651e+02],\n",
        "        [  1.00049681e-01,   1.98310331e+00,   2.80255720e+01, ...,\n",
        "           1.00048292e-01,   1.00003559e-01,   1.40864440e+01],\n",
        "        ..., \n",
        "        [  6.30401528e+02,   1.05017836e+04,   3.16727203e+01, ...,\n",
        "           1.82388936e+01,   2.35390194e+00,   4.62655544e+02],\n",
        "        [  3.94441021e+03,   9.64863039e+02,   8.47107332e+02, ...,\n",
        "           1.44517851e+03,   6.82415998e+02,   5.27500224e+02],\n",
        "        [  1.05995849e+02,   6.79589853e+03,   2.67578519e+02, ...,\n",
        "           1.95544347e+02,   5.01847515e+02,   2.83231740e+01]]))"
       ]
      }
     ],
     "prompt_number": 43
    },
    {
     "cell_type": "code",
     "collapsed": false,
     "input": [
      "prefix = '/Users/samway/Documents/Work/TopicModeling/biotm/data/substance_usage/cv_data_slda/SLDA_5_CV_2_'\n",
      "X_test = np_load(prefix + 'txd_test_matrix.npy')\n",
      "X_train = np_load(prefix + 'txd_training_matrix.npy')\n",
      "test = np_load(prefix + 'testing.npy')\n",
      "train = np_load(prefix + 'training.npy')\n",
      "print len(train), X_train.shape, len(test), X_test.shape\n",
      "\n",
      "prefix = '/Users/samway/Documents/Work/TopicModeling/biotm/data/substance_usage/cv_data_slda/SLDA_5_CV_3_'\n",
      "X_test = np_load(prefix + 'txd_test_matrix.npy')\n",
      "X_train = np_load(prefix + 'txd_training_matrix.npy')\n",
      "test = np_load(prefix + 'testing.npy')\n",
      "train = np_load(prefix + 'training.npy')\n",
      "print len(train), X_train.shape, len(test), X_test.shape"
     ],
     "language": "python",
     "metadata": {},
     "outputs": [
      {
       "output_type": "stream",
       "stream": "stdout",
       "text": [
        "983 (983, 5) 110 (110, 5)\n",
        "984 (984, 5) 109 (109, 5)\n"
       ]
      }
     ],
     "prompt_number": 8
    },
    {
     "cell_type": "heading",
     "level": 2,
     "metadata": {},
     "source": [
      "Classification"
     ]
    },
    {
     "cell_type": "code",
     "collapsed": false,
     "input": [
      "plot_data = []\n",
      "test = 'txd_test_matrix.npy'\n",
      "train = 'txd_test_matrix.npy'\n",
      "cv_scores = zeros(num_foldss)\n",
      "mdl = RandomForestClassifier()\n",
      "qual = accuracy_score  #(y_true, y_score)\n",
      "\n",
      "metadata_category = 'testyr'\n",
      "metadata_values = array([float(mdf[mdf.SampleID==s][metadata_category]) for s in sample_ids])\n",
      "\n",
      "print metadata_values\n",
      "\n",
      "# Case-by-case filtering\n",
      "#metadata_values = array([int(v==1) for v in metadata_values])\n",
      "\n",
      "for technique in techniques:\n",
      "    tech_data = []\n",
      "    for d in dim_steps:\n",
      "        for c in xrange(num_folds):            \n",
      "            prefix = '%s_%d_CV_%d_' % (technique, d, c)\n",
      "            prefix = path.join(cv_dir, prefix)\n",
      "            \n",
      "            X_test = np_load(prefix + 'txd_test_matrix.npy')\n",
      "            X_train = np_load(prefix + 'txd_training_matrix.npy')\n",
      "            test = np_load(prefix + 'testing.npy')\n",
      "            train = np_load(prefix + 'training.npy')\n",
      "            \n",
      "            y_test = metadata_values[test]\n",
      "            y_train = metadata_values[train]\n",
      "\n",
      "            mdl.fit(X_train, y_train)\n",
      "            y_pred = mdl.predict(X_test)\n",
      "            \n",
      "            cv_scores[c] = qual(y_test, y_pred)\n",
      "        tech_data.append(cv_scores.copy())\n",
      "    plot_data.append(tech_data)\n",
      "    \n",
      "for technique in ['PLSA']:\n",
      "    tech_data = []\n",
      "    for d in dim_steps:\n",
      "        for c in xrange(num_folds):            \n",
      "            prefix = '%s_%d_CV_%d_' % (technique, d, c)\n",
      "            prefix = path.join(cv_dir, prefix)\n",
      "            \n",
      "            #%X_test = np_load(prefix + 'txd_test_matrix.npy')\n",
      "            #X_train = np_load(prefix + 'txd_training_matrix.npy')\n",
      "            test = np_load(prefix + 'testing.npy')\n",
      "            train = np_load(prefix + 'training.npy')\n",
      "            X_test = data_matrix[test]\n",
      "            X_train = data_matrix[train]\n",
      "            \n",
      "            y_test = metadata_values[test]\n",
      "            y_train = metadata_values[train]\n",
      "\n",
      "            mdl.fit(X_train, y_train)\n",
      "            y_pred = mdl.predict(X_test)\n",
      "            \n",
      "            cv_scores[c] = qual(y_test, y_pred)\n",
      "        tech_data.append(cv_scores.copy())\n",
      "    plot_data.append(tech_data)\n",
      "\n",
      "fig, ax = plt.subplots(figsize=(10, 8), dpi=80)\n",
      "plot_data = array(plot_data)        \n",
      "names = techniques + [\"None\"]\n",
      "points = [str(step) for step in dim_steps]\n",
      "make_grouped_box(ax, plot_data, names, xticklabels=points)\n",
      "ax.set_ylabel('Accuracy')\n",
      "ax.set_xlabel('Number of Dimensions')\n",
      "ax.set_title('Predicting \"%s\"' % (metadata_category))\n",
      "plt.savefig(metadata_category+'_c.pdf')\n",
      "plt.show()"
     ],
     "language": "python",
     "metadata": {},
     "outputs": [
      {
       "output_type": "stream",
       "stream": "stdout",
       "text": [
        "[ 2005.  2005.  2005. ...,  2008.  2008.  2008.]\n"
       ]
      },
      {
       "metadata": {},
       "output_type": "display_data",
       "png": "[encoded data removed]",
       "text": [
        "<matplotlib.figure.Figure at 0x114dde290>"
       ]
      }
     ],
     "prompt_number": 51
    }
   ],
   "metadata": {}
  }
 ]
}