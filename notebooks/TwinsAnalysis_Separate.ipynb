{
 "metadata": {
  "name": "",
  "signature": "sha256:18080996536c665fae5b7c76fdaa07e45d817d6a25e869cdb6c10a3f82d6f913"
 },
 "nbformat": 3,
 "nbformat_minor": 0,
 "worksheets": [
  {
   "cells": [
    {
     "cell_type": "code",
     "collapsed": false,
     "input": [
      "from biotm.parse.fileio import load_dataset, parse_mapping_file_to_dict\n",
      "from biotm.topic_models.plsa.plsa import plsa\n",
      "from biotm.plotting.grouped_box import make_grouped_box, color_bp\n",
      "\n",
      "import matplotlib.pyplot as plt\n",
      "import brewer2mpl\n",
      "\n",
      "import pandas as pd\n",
      "from numpy import array, zeros, ones, arange, mean\n",
      "from numpy.random import randint, choice\n",
      "from scipy.stats import ranksums, f_oneway, pearsonr"
     ],
     "language": "python",
     "metadata": {},
     "outputs": [],
     "prompt_number": 1
    },
    {
     "cell_type": "heading",
     "level": 2,
     "metadata": {},
     "source": [
      "Load dataset"
     ]
    },
    {
     "cell_type": "code",
     "collapsed": false,
     "input": [
      "mapping_file = '/Users/samway/Documents/Work/TopicModeling/biotm/data/twins/twins.mapping.txt'\n",
      "otu_file = '/Users/samway/Documents/Work/TopicModeling/biotm/data/twins/twins.biom'\n",
      "metadata_category = 'Family'\n",
      "metadata_value = None\n",
      "\n",
      "otu_fp = open(otu_file, 'rU')\n",
      "map_fp = open(mapping_file, 'rU')\n",
      "\n",
      "data_matrix, sample_ids, taxonomy, labels, label_legend = \\\n",
      "    load_dataset(otu_fp, map_fp, metadata_category, metadata_value)\n",
      "    \n",
      "md_categories, mapping_dict = parse_mapping_file_to_dict(open(mapping_file, 'rU'))\n",
      "num_samples = len(sample_ids)\n",
      "    \n",
      "print \"Data matrix dimensions: \", data_matrix.shape \n",
      "print \"Number of Sample IDs: \" , num_samples\n",
      "print \"Number of Labels: \", len(labels)\n",
      "print \"Sum of all counts: \", data_matrix.sum()"
     ],
     "language": "python",
     "metadata": {},
     "outputs": [
      {
       "output_type": "stream",
       "stream": "stdout",
       "text": [
        "Data matrix dimensions:  (264, 678)\n",
        "Number of Sample IDs:  264\n",
        "Number of Labels:  264\n",
        "Sum of all counts:  427189.0\n"
       ]
      }
     ],
     "prompt_number": 2
    },
    {
     "cell_type": "code",
     "collapsed": false,
     "input": [
      "mapping_dict[sample_ids[0]]"
     ],
     "language": "python",
     "metadata": {},
     "outputs": [
      {
       "metadata": {},
       "output_type": "pyout",
       "prompt_number": 3,
       "text": [
        "{'Age': '8',\n",
        " 'AnonymizedName': 'DZ01421',\n",
        " 'BarcodeSequence': 'AGCTGACTAGTC',\n",
        " 'CollectionYear': '1997',\n",
        " 'Family': 'DZsubjectDZ014',\n",
        " 'LinkerPrimerSequence': 'CATGCTGCCTCCCGTAGGAGT',\n",
        " 'Sex': 'male',\n",
        " 'TwinSibling': 'y',\n",
        " 'WeightClass': 'normal',\n",
        " 'Zygosity': 'DZ'}"
       ]
      }
     ],
     "prompt_number": 3
    },
    {
     "cell_type": "code",
     "collapsed": false,
     "input": [
      "dz_sample_ids = [sample_id for sample_id in sample_ids if mapping_dict[sample_id]['Zygosity'] == 'DZ']\n",
      "mz_sample_ids = [sample_id for sample_id in sample_ids if mapping_dict[sample_id]['Zygosity'] == 'MZ']\n",
      "ad_sample_ids = [sample_id for sample_id in sample_ids if mapping_dict[sample_id]['Zygosity'] == 'adopted']"
     ],
     "language": "python",
     "metadata": {},
     "outputs": [],
     "prompt_number": 4
    },
    {
     "cell_type": "code",
     "collapsed": false,
     "input": [
      "# Get the youngest sample for each individual.\n",
      "individual_samples = {}\n",
      "for sample in sample_ids:\n",
      "    name = mapping_dict[sample]['AnonymizedName']\n",
      "    if name in individual_samples:\n",
      "        current_age = int(mapping_dict[individual_samples[name]]['Age'])\n",
      "        sample_age = int(mapping_dict[sample]['Age'])\n",
      "        if current_age > sample_age:\n",
      "            individual_samples[name] = sample\n",
      "    else:\n",
      "        individual_samples[name] = sample\n",
      "individuals = list(individual_samples.keys())"
     ],
     "language": "python",
     "metadata": {},
     "outputs": [],
     "prompt_number": 5
    },
    {
     "cell_type": "code",
     "collapsed": false,
     "input": [
      "# Make a list of all twin pairs for each type.\n",
      "remaining_individuals = ones(len(individual_samples))\n",
      "dz_twins = []\n",
      "mz_twins = []\n",
      "ad_twins = []\n",
      "\n",
      "while remaining_individuals.sum() > 0:\n",
      "    next_ind = remaining_individuals.tolist().index(1.)  # Get index of first 1.\n",
      "    name1 = individuals[next_ind]\n",
      "    id1 = individual_samples[name1]\n",
      "    family1 = mapping_dict[id1]['Family']    \n",
      "    found_sibling = False\n",
      "    \n",
      "    for i, name2 in enumerate(individuals):\n",
      "        if name1 == name2:\n",
      "            continue\n",
      "        \n",
      "        id2 = individual_samples[name2]\n",
      "        family2 = mapping_dict[id2]['Family']\n",
      "        \n",
      "        if family1 == family2:\n",
      "            found_sibling = True\n",
      "            twin_type = mapping_dict[id1]['Zygosity'].lower()\n",
      "            if twin_type == 'dz':\n",
      "                twin_list = dz_twins\n",
      "            elif twin_type == 'mz':\n",
      "                twin_list = mz_twins\n",
      "            elif twin_type == 'adopted':\n",
      "                twin_list = ad_twins\n",
      "            else:\n",
      "                raise ValueError(\"Unexpected twin type: %s\" % mapping_dict[id1]['Zygosity'])\n",
      "            \n",
      "            twin_list.append((id1, id2))\n",
      "            remaining_individuals[i] = 0\n",
      "            \n",
      "    if not found_sibling:\n",
      "        print 'WARNING: No sibling found for', name1\n",
      "        \n",
      "    remaining_individuals[next_ind] = 0\n",
      "    \n",
      "selected_samples = []\n",
      "for group in [dz_twins, mz_twins, ad_twins]:\n",
      "    for id1, id2 in group:\n",
      "        selected_samples += [id1, id2]\n",
      "        \n",
      "selected_samples = list(set(selected_samples))  # Make sure list is unique.\n",
      "sample_id_list = sample_ids.tolist()\n",
      "selected_samples_idx = [sample_id_list.index(s) for s in selected_samples]\n",
      "print '\\nNumber of selected samples:', len(selected_samples_idx)\n",
      "print 'Matched %d of %d individuals' % (sum(2*[len(dz_twins), len(mz_twins), len(ad_twins)]), len(individuals))\n",
      "\n",
      "data_matrix = data_matrix[selected_samples_idx]\n",
      "sample_ids = sample_ids[selected_samples_idx]\n",
      "\n",
      "dz_samples = [i for i, sid in enumerate(sample_ids) if sid in dz_sample_ids]\n",
      "mz_samples = [i for i, sid in enumerate(sample_ids) if sid in mz_sample_ids]\n",
      "ad_samples = [i for i, sid in enumerate(sample_ids) if sid in ad_sample_ids]"
     ],
     "language": "python",
     "metadata": {},
     "outputs": [
      {
       "output_type": "stream",
       "stream": "stdout",
       "text": [
        "WARNING: No sibling found for C00362\n",
        "\n",
        "Number of selected samples: 106\n",
        "Matched 106 of 107 individuals\n"
       ]
      }
     ],
     "prompt_number": 6
    },
    {
     "cell_type": "heading",
     "level": 2,
     "metadata": {},
     "source": [
      "Bootstrap"
     ]
    },
    {
     "cell_type": "code",
     "collapsed": false,
     "input": [
      "def bootstrap(X, n=None, sample_subset=None):\n",
      "    \"\"\" Construct a bootstrap sample of matrix X.\n",
      "        NOTE: If n is not specified, it is assumed \n",
      "        to be X.shape[0].  \n",
      "        \n",
      "        Inputs:\n",
      "          -X: data matrix to be sampled.\n",
      "              (num_samples, num_features)\n",
      "          -n: number of samples to extract\n",
      "              from X (default: n=num_samples)\n",
      "          -sample_subset: restrict sampling to\n",
      "                          draw from only these\n",
      "                          indices.\n",
      "        \n",
      "        Returns:\n",
      "          -Xbs: bootstrap sample of size n.\n",
      "          -selected_samples: sample indices in\n",
      "                             the bootstrap.\n",
      "    \"\"\"\n",
      "    if n is None:\n",
      "        n = X.shape[0]\n",
      "    elif n <= 0:\n",
      "        raise ValueError('n must be a positive number!')\n",
      "\n",
      "    if sample_subset is None:\n",
      "        selected_samples = choice(arange(X.shape[0]), n, replace=True)\n",
      "    else:\n",
      "        selected_samples = choice(sample_subset, n, replace=True)\n",
      "    return X[selected_samples], selected_samples   "
     ],
     "language": "python",
     "metadata": {},
     "outputs": [],
     "prompt_number": 7
    },
    {
     "cell_type": "markdown",
     "metadata": {},
     "source": [
      "Perform a number of bootstrap samples of the data matrix.  For each sample, run PLSA and look at the correlations of topic vectors within each group. "
     ]
    },
    {
     "cell_type": "heading",
     "level": 2,
     "metadata": {},
     "source": [
      "Compare correlations for each group"
     ]
    },
    {
     "cell_type": "code",
     "collapsed": false,
     "input": [
      "bootstrap_iterations = 20\n",
      "#dim_steps = [3, 5, 10, 50, 100, None]\n",
      "dim_steps = [3, 5, 10, 50, None]\n",
      "plot_data = []\n",
      "\n",
      "for group_id, group in enumerate(['mz', 'dz', 'other']):\n",
      "    print group\n",
      "    group_data = []\n",
      "    if group == 'mz':\n",
      "        X = data_matrix[mz_samples]\n",
      "        y = sample_ids[mz_samples]\n",
      "    elif group == 'dz':\n",
      "        X = data_matrix[dz_samples]\n",
      "        y = sample_ids[dz_samples]\n",
      "    else:\n",
      "        X = data_matrix\n",
      "        y = sample_ids\n",
      "    \n",
      "    for num_dims in dim_steps:\n",
      "        dim_vals = []\n",
      "        if num_dims is not None:\n",
      "            dimredux = plsa(n_components=num_dims)\n",
      "        for b in xrange(bootstrap_iterations):\n",
      "            bs_data_matrix, bs_samples = bootstrap(X)\n",
      "            if num_dims is not None:\n",
      "                txd_matrix = dimredux.fit_transform(bs_data_matrix)\n",
      "            else:\n",
      "                txd_matrix = bs_data_matrix\n",
      "    \n",
      "            n = len(bs_samples)\n",
      "            for i in xrange(n):\n",
      "                sample_i = y[bs_samples[i]]\n",
      "                i_idx = bs_samples[i]\n",
      "                for j in xrange(i+1, n):\n",
      "                    sample_j = y[bs_samples[j]]\n",
      "                    j_idx = bs_samples[j]\n",
      "                    \n",
      "                    if (sample_i, sample_j) in mz_twins or (sample_j, sample_i) in mz_twins:\n",
      "                        if group == 'mz':\n",
      "                            r, pval = pearsonr(txd_matrix[i_idx,:], txd_matrix[j_idx,:])\n",
      "                            dim_vals.append(r)\n",
      "                    elif (sample_i, sample_j) in dz_twins or (sample_j, sample_i) in dz_twins:\n",
      "                        if group == 'dz':\n",
      "                            r, pval = pearsonr(txd_matrix[i_idx,:], txd_matrix[j_idx,:])\n",
      "                            dim_vals.append(r)\n",
      "                    else:\n",
      "                        if group == 'other':\n",
      "                            r, pval = pearsonr(txd_matrix[i_idx,:], txd_matrix[j_idx,:])\n",
      "                            dim_vals.append(r)\n",
      "    \n",
      "        group_data.append(array(dim_vals).copy())\n",
      "    plot_data.append(array(group_data).copy())"
     ],
     "language": "python",
     "metadata": {},
     "outputs": [
      {
       "output_type": "stream",
       "stream": "stdout",
       "text": [
        "mz\n",
        "dz"
       ]
      },
      {
       "output_type": "stream",
       "stream": "stdout",
       "text": [
        "\n",
        "other"
       ]
      },
      {
       "output_type": "stream",
       "stream": "stdout",
       "text": [
        "\n"
       ]
      }
     ],
     "prompt_number": 13
    },
    {
     "cell_type": "code",
     "collapsed": false,
     "input": [
      "plot_data = array(plot_data)        \n",
      "labels = ['Identical Twins', 'Fraternal Twins', 'No blood relation']\n",
      "points = [str(step) if step is not None else '(No PLSA)' for step in dim_steps]\n",
      "color_map = brewer2mpl.get_map('Set1', 'qualitative', 3).mpl_colors\n",
      "fig, ax = plt.subplots(figsize=(10, 6), dpi=80)\n",
      "make_grouped_box(ax, plot_data, labels, xticklabels=points, colors=color_map, dot_mean=True)\n",
      "        \n",
      "ax.set_ylim(-1.1, 1.1)\n",
      "ax.set_ylabel('Correlation of topic vectors')\n",
      "ax.set_xlabel('Number of dimensions')\n",
      "        \n",
      "plt.show()"
     ],
     "language": "python",
     "metadata": {},
     "outputs": [
      {
       "metadata": {},
       "output_type": "display_data",
       "png": "[encoded data removed]",
       "text": [
        "<matplotlib.figure.Figure at 0x10c65f4d0>"
       ]
      }
     ],
     "prompt_number": 14
    },
    {
     "cell_type": "code",
     "collapsed": false,
     "input": [
      "plot_data[2][0][0]"
     ],
     "language": "python",
     "metadata": {},
     "outputs": [
      {
       "metadata": {},
       "output_type": "pyout",
       "prompt_number": 10,
       "text": [
        "0.9969545841056523"
       ]
      }
     ],
     "prompt_number": 10
    },
    {
     "cell_type": "code",
     "collapsed": false,
     "input": [],
     "language": "python",
     "metadata": {},
     "outputs": [],
     "prompt_number": 10
    }
   ],
   "metadata": {}
  }
 ]
}