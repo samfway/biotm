{
 "metadata": {
  "name": "",
  "signature": "sha256:311f45f319e3d314a99ef0b1f69e3b0dd950929783e5f266d5af94d3748aceab"
 },
 "nbformat": 3,
 "nbformat_minor": 0,
 "worksheets": [
  {
   "cells": [
    {
     "cell_type": "code",
     "collapsed": false,
     "input": [
      "from biotm.parse.fileio import load_dataset, load_biom_table\n",
      "from biotm.parse.util import extract_from_taxa_string\n",
      "from biotm.topic_models.plsa.plsa import plsa\n",
      "from biotm.plotting.grouped_box import make_grouped_box\n",
      "\n",
      "import matplotlib.pyplot as plt\n",
      "import brewer2mpl\n",
      "\n",
      "import pandas as pd\n",
      "from numpy import arange, array, zeros\n",
      "from numpy.random import randint\n",
      "from scipy.stats import ranksums, f_oneway \n",
      "\n",
      "from sklearn.decomposition import TruncatedSVD, KernelPCA, FastICA, MiniBatchDictionaryLearning, NMF\n",
      "from sklearn.svm import SVC\n",
      "from sklearn.linear_model import LogisticRegression\n",
      "from sklearn.ensemble import RandomForestClassifier\n",
      "from sklearn.cross_validation import StratifiedKFold\n",
      "from sklearn.metrics import f1_score, roc_auc_score, accuracy_score\n",
      "\n",
      "mapping_file = '/Users/samway/Documents/Work/TopicModeling/biotm/data/smoking/smoking.mapping.txt'\n",
      "otu_file = '/Users/samway/Documents/Work/TopicModeling/biotm/data/smoking/smoking.biom'\n",
      "metadata_category = 'Smoking_Simple'\n",
      "metadata_value = None\n",
      "\n",
      "otu_fp = open(otu_file, 'rU')\n",
      "map_fp = open(mapping_file, 'rU')\n",
      "\n",
      "data_matrix, sample_ids, taxonomy, labels, label_legend = \\\n",
      "    load_dataset(otu_fp, map_fp, metadata_category, metadata_value)\n",
      "data_biom = load_biom_table(open(otu_file, 'rU'))\n",
      "    \n",
      "relevant_indices = array([i for i,v in enumerate(labels) if label_legend[v] != 'NA'])\n",
      "data_matrix = data_matrix[relevant_indices, :]\n",
      "sample_ids = sample_ids[relevant_indices]\n",
      "labels = labels[relevant_indices]\n",
      "\n",
      "pos_label = label_legend.index('1')\n",
      "labels = array([int(l == pos_label) for l in labels])  # Convert to binary labels\n",
      "\n",
      "num_topics = 10"
     ],
     "language": "python",
     "metadata": {},
     "outputs": [],
     "prompt_number": 24
    },
    {
     "cell_type": "code",
     "collapsed": false,
     "input": [
      "tm = plsa(n_components=num_topics)\n",
      "tm.fit(data_matrix)\n",
      "params = tm.get_params()\n",
      "p_w_z = params['p_w_z']"
     ],
     "language": "python",
     "metadata": {},
     "outputs": [],
     "prompt_number": 47
    },
    {
     "cell_type": "heading",
     "level": 2,
     "metadata": {},
     "source": [
      "Inspect topics"
     ]
    },
    {
     "cell_type": "code",
     "collapsed": false,
     "input": [
      "taxa = [extract_from_taxa_string('p__', t) for t in taxonomy]  # Phylum level\n",
      "unique_taxa = list(set(taxa))\n",
      "tm = plsa(n_components=num_topics)\n",
      "for x in unique_taxa:\n",
      "    print x"
     ],
     "language": "python",
     "metadata": {},
     "outputs": [
      {
       "output_type": "stream",
       "stream": "stdout",
       "text": [
        "Spirochaetes\n",
        "None\n",
        "TM7\n",
        "Firmicutes\n",
        "Bacteroidetes\n",
        "Synergistetes\n",
        "Gemmatimonadetes\n",
        "Chlorobi\n",
        "Actinobacteria\n",
        "Cyanobacteria\n",
        "WS3\n",
        "SR1\n",
        "Thermotogae\n",
        "GN02\n",
        "Nitrospirae\n",
        "Fusobacteria\n",
        "Proteobacteria\n",
        "Tenericutes\n",
        "ZB2\n"
       ]
      }
     ],
     "prompt_number": 48
    },
    {
     "cell_type": "code",
     "collapsed": false,
     "input": [
      "select_taxa = 'Thermotogae'\n",
      "select = array([i for i,t in enumerate(taxa) if t == select_taxa])\n",
      "print 'Count of %s:\\t%d' % (select_taxa, len(select))\n",
      "temp = p_w_z[select,:]\n",
      "temp = temp.sum(axis=0) / temp.sum()\n",
      "\n",
      "width = 0.75\n",
      "fig, ax = plt.subplots(figsize=(10, 8), dpi=80)\n",
      "rects1 = ax.bar(arange(num_topics), temp, 0.75, color='k')\n",
      "ax.set_xticks(arange(num_topics)+(width/2))\n",
      "ax.set_xticklabels(arange(num_topics)+1)\n",
      "ax.set_ylabel('Average prob. of taxa given topic')\n",
      "ax.set_xlabel('Topic')\n",
      "ax.set_xlim(0, num_topics)\n",
      "ax.set_ylim(0, 1.1)\n",
      "if select_taxa is not None:\n",
      "    title = select_taxa\n",
      "else:\n",
      "    tile = '(None)'\n",
      "ax.set_title('Average topic distribution for %s' % title)\n",
      "plt.show()"
     ],
     "language": "python",
     "metadata": {},
     "outputs": [
      {
       "output_type": "stream",
       "stream": "stdout",
       "text": [
        "Count of Thermotogae:\t1\n"
       ]
      },
      {
       "metadata": {},
       "output_type": "display_data",
       "png": "[encoded data removed]",
       "text": [
        "<matplotlib.figure.Figure at 0x10cfeb750>"
       ]
      }
     ],
     "prompt_number": 97
    },
    {
     "cell_type": "code",
     "collapsed": false,
     "input": [],
     "language": "python",
     "metadata": {},
     "outputs": []
    }
   ],
   "metadata": {}
  }
 ]
}