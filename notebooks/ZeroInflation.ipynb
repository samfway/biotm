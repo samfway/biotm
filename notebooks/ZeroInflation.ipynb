{
 "metadata": {
  "name": "",
  "signature": "sha256:e2bf329b68c1004163be1edd50e8a9f616cac65338dcddb4b07a52d8dbf73e70"
 },
 "nbformat": 3,
 "nbformat_minor": 0,
 "worksheets": [
  {
   "cells": [
    {
     "cell_type": "code",
     "collapsed": false,
     "input": [
      "from numpy import arange\n",
      "from numpy.random import random, choice, randint, poisson\n",
      "import matplotlib.pyplot as plt\n",
      "from matplotlib.colors import ColorConverter\n",
      "from biotm.plotting.grouped_box import color_bp, legend_hack\n",
      "from scipy.stats import pearsonr\n",
      "\n",
      "from biotm.parse.fileio import load_dataset, parse_mapping_file_to_dict\n",
      "from biotm.topic_models.plsa.plsa import plsa\n",
      "from biotm.plotting.grouped_box import make_grouped_box, color_bp"
     ],
     "language": "python",
     "metadata": {},
     "outputs": [],
     "prompt_number": 1
    },
    {
     "cell_type": "code",
     "collapsed": false,
     "input": [
      "vector_size = 100\n",
      "num_vectors = 100\n",
      "n_steps = arange(0, 100, 10)\n",
      "cc = ColorConverter()\n",
      "color = cc.to_rgb('w')"
     ],
     "language": "python",
     "metadata": {},
     "outputs": [],
     "prompt_number": 2
    },
    {
     "cell_type": "code",
     "collapsed": false,
     "input": [
      "fig, ax = plt.subplots(figsize=(10, 6), dpi=80)\n",
      "\n",
      "for step_number, n in enumerate(n_steps):\n",
      "    vals = []\n",
      "    X = random((num_vectors, vector_size))\n",
      "    #X = poisson(7, (num_vectors, vector_size))\n",
      "    \n",
      "    if n > 0:  # zero out elements\n",
      "        zero_indices = choice(arange(vector_size), n, replace=False)\n",
      "        X[:,zero_indices] = 0.0\n",
      "            \n",
      "    for i in xrange(num_vectors):\n",
      "        for j in xrange(i+1, num_vectors):\n",
      "            r, pval = pearsonr(X[i,:], X[j,:])\n",
      "            vals.append(r)\n",
      "\n",
      "    bp = ax.boxplot([vals], positions=[step_number+1], patch_artist=True, widths=.25)\n",
      "    color_bp(bp, cc.to_rgb('r'))\n",
      "    ax.plot([step_number+1], [mean(vals)], linestyle='None', \n",
      "            marker='o', markerfacecolor='w',\n",
      "            markeredgecolor='k')\n",
      "    \n",
      "    vals = []\n",
      "    for i in xrange(num_vectors):\n",
      "        shuffle(X[i,:])\n",
      "        \n",
      "    for i in xrange(num_vectors):\n",
      "        for j in xrange(i+1, num_vectors):\n",
      "            r, pval = pearsonr(X[i,:], X[j,:])\n",
      "            vals.append(r)\n",
      "\n",
      "    bp = ax.boxplot([vals], positions=[step_number+1.25], patch_artist=True, widths=.25)\n",
      "    color_bp(bp, cc.to_rgb('w'))\n",
      "    ax.plot([step_number+1.25], [mean(vals)], linestyle='None', \n",
      "            marker='o', markerfacecolor='w',\n",
      "            markeredgecolor='k')\n",
      "    \n",
      "legend_hack(ax, ['Zero-inflated', 'Zero-inflated+Shuffled'], [cc.to_rgb('r'), [0.6]*3], 'lower right')    \n",
      "\n",
      "ax.set_xlim((0.5, len(n_steps)+0.5))\n",
      "ax.set_ylim((-1.1, 1.1))\n",
      "ax.set_xticks(arange(len(n_steps))+1)\n",
      "ax.set_xticklabels([str(n) for n in n_steps])\n",
      "ax.set_xlabel(\"Number of zeroed elements\")\n",
      "ax.set_ylabel(\"Correlation of random vectors\")\n",
      "plt.show()"
     ],
     "language": "python",
     "metadata": {},
     "outputs": [
      {
       "metadata": {},
       "output_type": "display_data",
       "png": "[encoded data removed]",
       "text": [
        "<matplotlib.figure.Figure at 0x10b1d02d0>"
       ]
      }
     ],
     "prompt_number": 3
    },
    {
     "cell_type": "heading",
     "level": 2,
     "metadata": {},
     "source": [
      "Looking at Twins Data"
     ]
    },
    {
     "cell_type": "code",
     "collapsed": false,
     "input": [
      "mapping_file = '/Users/samway/Documents/Work/TopicModeling/biotm/data/twins/twins.mapping.txt'\n",
      "otu_file = '/Users/samway/Documents/Work/TopicModeling/biotm/data/twins/twins.biom'\n",
      "metadata_category = 'Family'\n",
      "metadata_value = None\n",
      "\n",
      "otu_fp = open(otu_file, 'rU')\n",
      "map_fp = open(mapping_file, 'rU')\n",
      "\n",
      "data_matrix, sample_ids, taxonomy, labels, label_legend = \\\n",
      "    load_dataset(otu_fp, map_fp, metadata_category, metadata_value)\n",
      "    \n",
      "md_categories, mapping_dict = parse_mapping_file_to_dict(open(mapping_file, 'rU'))\n",
      "num_samples = len(sample_ids)\n",
      "    \n",
      "print \"Data matrix dimensions: \", data_matrix.shape \n",
      "print \"Number of Sample IDs: \" , num_samples\n",
      "print \"Number of Labels: \", len(labels)\n",
      "print \"Sum of all counts: \", data_matrix.sum()"
     ],
     "language": "python",
     "metadata": {},
     "outputs": [
      {
       "output_type": "stream",
       "stream": "stdout",
       "text": [
        "Data matrix dimensions:  (264, 678)\n",
        "Number of Sample IDs:  264\n",
        "Number of Labels:  264\n",
        "Sum of all counts:  427189.0\n"
       ]
      }
     ],
     "prompt_number": 4
    },
    {
     "cell_type": "code",
     "collapsed": false,
     "input": [
      "def bootstrap(X, n=None, sample_subset=None):\n",
      "    \"\"\" Construct a bootstrap sample of matrix X.\n",
      "        NOTE: If n is not specified, it is assumed \n",
      "        to be X.shape[0].  \n",
      "        \n",
      "        Inputs:\n",
      "          -X: data matrix to be sampled.\n",
      "              (num_samples, num_features)\n",
      "          -n: number of samples to extract\n",
      "              from X (default: n=num_samples)\n",
      "          -sample_subset: restrict sampling to\n",
      "                          draw from only these\n",
      "                          indices.\n",
      "        \n",
      "        Returns:\n",
      "          -Xbs: bootstrap sample of size n.\n",
      "          -selected_samples: sample indices in\n",
      "                             the bootstrap.\n",
      "    \"\"\"\n",
      "    if n is None:\n",
      "        n = X.shape[0]\n",
      "    elif n <= 0:\n",
      "        raise ValueError('n must be a positive number!')\n",
      "\n",
      "    if sample_subset is None:\n",
      "        selected_samples = choice(arange(X.shape[0]), n, replace=True)\n",
      "    else:\n",
      "        selected_samples = choice(sample_subset, n, replace=True)\n",
      "    return X[selected_samples], selected_samples   \n",
      "\n",
      "all_vals = []\n",
      "bootstrap_iterations = 10\n",
      "  \n",
      "for b in xrange(bootstrap_iterations):\n",
      "    txd_matrix, bs_samples = bootstrap(data_matrix)\n",
      "  \n",
      "    n = len(bs_samples)\n",
      "    for i in xrange(n):\n",
      "        sample_i = sample_ids[bs_samples[i]]\n",
      "        i_idx = bs_samples[i]\n",
      "     \n",
      "        for j in xrange(i+1, n):\n",
      "            sample_j = sample_ids[bs_samples[j]]\n",
      "            j_idx = bs_samples[j]\n",
      "            r, pval = pearsonr(txd_matrix[i_idx,:], txd_matrix[j_idx,:])\n",
      "            all_vals.append(r)\n",
      "    \n",
      "            #if (sample_i, sample_j) in mz_twins or (sample_j, sample_i) in mz_twins:\n",
      "            #    mz_vals.append(r)\n",
      "            #elif (sample_i, sample_j) in dz_twins or (sample_j, sample_i) in dz_twins:\n",
      "            #    dz_vals.append(r)\n",
      "            #else:\n",
      "            #    ot_vals.append(r)\n",
      "        "
     ],
     "language": "python",
     "metadata": {},
     "outputs": [],
     "prompt_number": 5
    },
    {
     "cell_type": "code",
     "collapsed": false,
     "input": [
      "fig, ax = plt.subplots(figsize=(6, 6), dpi=80)\n",
      "bp = ax.boxplot([all_vals], positions=[1], patch_artist=True, widths=.75)\n",
      "plt.ylim((-1.1, 1.1))\n",
      "plt.show()"
     ],
     "language": "python",
     "metadata": {},
     "outputs": [
      {
       "metadata": {},
       "output_type": "display_data",
       "png": "[encoded data removed]",
       "text": [
        "<matplotlib.figure.Figure at 0x10b1bed50>"
       ]
      }
     ],
     "prompt_number": 6
    },
    {
     "cell_type": "code",
     "collapsed": false,
     "input": [
      "shuf_vals = []\n",
      "bootstrap_iterations = 10\n",
      "non_zero_values = data_matrix[data_matrix > 0]\n",
      "  \n",
      "for b in xrange(bootstrap_iterations):\n",
      "    txd_matrix, bs_samples = bootstrap(data_matrix)\n",
      "    rows, cols = txd_matrix.nonzero()\n",
      "    for i,j in zip(rows, cols):\n",
      "        temp = data_matrix[:,j]\n",
      "        temp = temp[temp > 0]\n",
      "        txd_matrix[i,j] = choice(temp)\n",
      "  \n",
      "    n = len(bs_samples)\n",
      "    for i in xrange(n):\n",
      "        sample_i = sample_ids[bs_samples[i]]\n",
      "        i_idx = bs_samples[i]\n",
      "     \n",
      "        for j in xrange(i+1, n):\n",
      "            sample_j = sample_ids[bs_samples[j]]\n",
      "            j_idx = bs_samples[j]\n",
      "            r, pval = pearsonr(txd_matrix[i_idx,:], txd_matrix[j_idx,:])\n",
      "            shuf_vals.append(r)"
     ],
     "language": "python",
     "metadata": {},
     "outputs": [],
     "prompt_number": 12
    },
    {
     "cell_type": "code",
     "collapsed": false,
     "input": [
      "fig, ax = plt.subplots(figsize=(6, 6), dpi=80)\n",
      "bp = ax.boxplot([all_vals, shuf_vals], positions=[1, 2], patch_artist=True, widths=.75)\n",
      "plt.ylim((-1.1, 1.1))\n",
      "ax.set_xticks([1,2])\n",
      "ax.set_xticklabels(['Raw', 'Raw+shuffled'])\n",
      "plt.show()"
     ],
     "language": "python",
     "metadata": {},
     "outputs": [
      {
       "metadata": {},
       "output_type": "display_data",
       "png": "[encoded data removed]",
       "text": [
        "<matplotlib.figure.Figure at 0x10b358090>"
       ]
      }
     ],
     "prompt_number": 14
    },
    {
     "cell_type": "code",
     "collapsed": false,
     "input": [],
     "language": "python",
     "metadata": {},
     "outputs": []
    }
   ],
   "metadata": {}
  }
 ]
}